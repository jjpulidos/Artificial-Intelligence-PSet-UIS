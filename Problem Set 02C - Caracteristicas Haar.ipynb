{
 "cells": [
  {
   "cell_type": "markdown",
   "metadata": {},
   "source": [
    "### Ejercicio 1: Define y extrae características Haar\n",
    "\n",
    "Fíjate en la definción de las características Haar 1 y 3. Define el resto según la imagen siguiente. Usamos la librería `haar` incluida en el repositorio del curso."
   ]
  },
  {
   "cell_type": "code",
   "execution_count": 1,
   "metadata": {},
   "outputs": [
    {
     "data": {
      "image/png": "[encoded data removed]",
      "text/plain": [
       "<IPython.core.display.Image object>"
      ]
     },
     "execution_count": 1,
     "metadata": {
      "image/png": {
       "height": 100,
       "width": 500
      }
     },
     "output_type": "execute_result"
    }
   ],
   "source": [
    "from IPython.display import Image\n",
    "Image(filename='imgs/haar.png', width=500, height=100)"
   ]
  },
  {
   "cell_type": "markdown",
   "metadata": {},
   "source": [
    "**Ejemplo de Ejecución**\n",
    "\n",
    "$M=$\n",
    "\n",
    "    [[ 1  1  1  1  1  1  1  1  1  1]\n",
    "     [ 2  2  2  2  2  2  2  2  2  2]\n",
    "     [ 3  3  3  3  3  3  3  3  3  3]\n",
    "     [ 4  4  4  4  4  4  4  4  4  4]\n",
    "     [ 5  7  5  5  5  5  5  5  5  5]\n",
    "     [ 6  6  6  6  6  6  6  6  6  6]\n",
    "     [ 7  7  7  7  7  7  7  7  7  7]\n",
    "     [ 8  8  8  8  8  8  8  8  8  8]\n",
    "     [ 9  9  9  9  9  9  9  9  9  9]\n",
    "     [10 10 10 10 10 10 10 10 10 10]]\n",
    "     \n",
    "    > extract_haar(haar_1, M)\n",
    "    -248\n",
    "    > extract_haar(haar_2, M)\n",
    "    2\n",
    "    > extract_haar(haar_3, M)\n",
    "    108\n",
    "    > extract_haar(haar_4, M)\n",
    "    112\n",
    "    > extract_haar(haar_4, M)\n",
    "    2"
   ]
  },
  {
   "cell_type": "code",
   "execution_count": 2,
   "metadata": {
    "collapsed": true
   },
   "outputs": [],
   "source": [
    "import sys\n",
    "import numpy as np\n",
    "sys.path.append(\"code\")\n",
    "%matplotlib inline\n",
    "from haar import *\n",
    "\n",
    "haar_1 = [ {\"op\": \"add\", \"topleft_row_rel\": 0.0, \"topleft_col_rel\": 0.0, \"height_rel\": 0.5, \"width_rel\": 1.0},\n",
    "           {\"op\": \"sub\", \"topleft_row_rel\": 0.5, \"topleft_col_rel\": 0.0, \"height_rel\": 0.5, \"width_rel\": 1.0}]\n",
    "\n",
    "# TU CODIGO AQUI\n",
    "haar_2 = [ {\"op\": \"add\", \"topleft_row_rel\": 0.0, \"topleft_col_rel\": 0.0, \"height_rel\": 1.0, \"width_rel\": 0.5},\n",
    "           {\"op\": \"sub\", \"topleft_row_rel\": 0.0, \"topleft_col_rel\": 0.5, \"height_rel\": 1.0, \"width_rel\": 0.5}]\n",
    "\n",
    "haar_3 = [ {\"op\": \"add\", \"topleft_row_rel\": 0.0,   \"topleft_col_rel\": 0.0, \"height_rel\": 0.3, \"width_rel\": 1.0},\n",
    "           {\"op\": \"add\", \"topleft_row_rel\": 0.7,   \"topleft_col_rel\": 0.0, \"height_rel\": 0.3, \"width_rel\": 1.0},\n",
    "           {\"op\": \"sub\", \"topleft_row_rel\": 0.3,   \"topleft_col_rel\": 0.0, \"height_rel\": 0.4, \"width_rel\": 1.0}]\n",
    "\n",
    "# TU CODIGO AQUI\n",
    "haar_4 = [ {\"op\": \"add\", \"topleft_row_rel\": 0.0,   \"topleft_col_rel\": 0.0, \"height_rel\": 1.0, \"width_rel\": 0.3},\n",
    "           {\"op\": \"add\", \"topleft_row_rel\": 0.0,   \"topleft_col_rel\": 0.7, \"height_rel\": 1.0, \"width_rel\": 0.3},\n",
    "           {\"op\": \"sub\", \"topleft_row_rel\": 0.0,   \"topleft_col_rel\": 0.3, \"height_rel\": 1.0, \"width_rel\": 0.4}]\n",
    "\n",
    "# TU CODIGO AQUI\n",
    "haar_5 = [ {\"op\": \"add\", \"topleft_row_rel\": 0.0, \"topleft_col_rel\": 0.0, \"height_rel\": 0.5, \"width_rel\": 0.5},\n",
    "           {\"op\": \"sub\", \"topleft_row_rel\": 0.0, \"topleft_col_rel\": 0.5, \"height_rel\": 0.5, \"width_rel\": 0.5},\n",
    "           {\"op\": \"sub\", \"topleft_row_rel\": 0.5, \"topleft_col_rel\": 0.0, \"height_rel\": 0.5, \"width_rel\": 0.5},\n",
    "           {\"op\": \"add\", \"topleft_row_rel\": 0.5, \"topleft_col_rel\": 0.5, \"height_rel\": 0.5, \"width_rel\": 0.5}]\n",
    "\n",
    "haar_features = [haar_1,haar_2, haar_3,haar_4,haar_5]\n"
   ]
  },
  {
   "cell_type": "markdown",
   "metadata": {},
   "source": [
    "Comprueba tu código"
   ]
  },
  {
   "cell_type": "code",
   "execution_count": 3,
   "metadata": {},
   "outputs": [
    {
     "name": "stdout",
     "output_type": "stream",
     "text": [
      "[[ 1  1  1  1  1  1  1  1  1  1]\n",
      " [ 2  2  2  2  2  2  2  2  2  2]\n",
      " [ 3  3  3  3  3  3  3  3  3  3]\n",
      " [ 4  4  4  4  4  4  4  4  4  4]\n",
      " [ 5  7  5  5  5  5  5  5  5  5]\n",
      " [ 6  6  6  6  6  6  6  6  6  6]\n",
      " [ 7  7  7  7  7  7  7  7  7  7]\n",
      " [ 8  8  8  8  8  8  8  8  8  8]\n",
      " [ 9  9  9  9  9  9  9  9  9  9]\n",
      " [10 10 10 10 10 10 10 10 10 10]]\n",
      "-248\n",
      "2\n",
      "108\n",
      "112\n",
      "2\n"
     ]
    },
    {
     "data": {
      "image/png": "[encoded data removed]",
      "text/plain": [
       "<matplotlib.figure.Figure at 0x2218967b470>"
      ]
     },
     "metadata": {},
     "output_type": "display_data"
    }
   ],
   "source": [
    "show_haar_features(haar_features)\n",
    "\n",
    "M = create_sample_matrix(10)\n",
    "print (M)\n",
    "print (extract_haar(haar_1, M))\n",
    "print (extract_haar(haar_2, M))\n",
    "print (extract_haar(haar_3, M))\n",
    "print (extract_haar(haar_4, M))\n",
    "print (extract_haar(haar_5, M))"
   ]
  },
  {
   "cell_type": "markdown",
   "metadata": {},
   "source": [
    "<font style=\"color: red\">comprueba tu progreso hasta ahora</font>"
   ]
  },
  {
   "cell_type": "markdown",
   "metadata": {
    "collapsed": true
   },
   "source": [
    "%run -i code/p_02B_eval"
   ]
  },
  {
   "cell_type": "markdown",
   "metadata": {},
   "source": [
    "### Ejercicio 2:  Usa la imagen integral para calcular la suma de una submatriz\n",
    "\n",
    "Cuando queremos obtener muchas características Haar de una misma imagen, calcular la suma de los elementos de distintas submatrices puede ser computacionalmente muy pesado. Para reducir el tiempo de cómputo en estos casos, calculamos previamente la _matriz integral_ de una imagen, y luego realizamos los cálculos de las sumas de las submatrices sobre ella, en vez de usar la imagen original.\n",
    "\n",
    "Dada una matriz $M \\in \\mathbb{R}^{m\\times n}$, denotamos su matriz integral por $M_I \\in \\mathbb{R}^{m\\times n}$. El elemento de la columna $c$ y fila $r$ de $M_I$, con $0\\leq r <m$ y $0\\leq c < n$ viene dado por:\n",
    "\n",
    "$$m_I[r,c] = \\sum_{i=0}^r \\sum_{j=0}^cm[i,j]$$\n",
    "\n",
    "donde $m[i,j]$ es el elemento de la fila $i$ y de la columna $j$ de la matriz $M$. Es decir $m_I[r,c]$ es la suma de los elementos de la sub-matriz de $M$ que está entre las posiciones $(0,0)$ y $(r,c)$.\n",
    "\n",
    "para cualquier matriz puedes usar la función `get_integral(M)` de la librería `haar` del curso para obtener su matriz integral correspondiente"
   ]
  },
  {
   "cell_type": "code",
   "execution_count": 4,
   "metadata": {},
   "outputs": [
    {
     "name": "stdout",
     "output_type": "stream",
     "text": [
      "[[1 2 3]\n",
      " [3 4 5]\n",
      " [7 8 9]]\n",
      "[[ 1  3  6]\n",
      " [ 4 10 18]\n",
      " [11 25 42]]\n"
     ]
    }
   ],
   "source": [
    "import numpy as np\n",
    "M = np.array([[1,2,3],[3,4,5],[7,8,9]])\n",
    "print (M)\n",
    "print (get_integral(M))"
   ]
  },
  {
   "cell_type": "markdown",
   "metadata": {},
   "source": [
    "La matriz integral nos sirve para calcular la suma de los elementos de una región cualquiera de la matriz original  tienen su origen en la esquina superior izquierda de dicha matriz original. Si quisiéramos considerar una región arbitraria (por ejemplo $S$ en la figura siguiente), podemos usar igualmente la matriz integral usando el hecho de que:\n",
    "\n",
    "$$ sum(S) = sum(C)+sum(A)-sum(B)-sum(D)$$\n",
    "\n",
    "en donde las matrices $A$, $B$, $C$ and $D$ tienen su origen en la esquina superior izquierda, como se ilustra en la figura. Por tanto:\n",
    "\n",
    "$$ sum(S) = m_I(c) + m_I(a) - m_I(b) - m_I(d)$$\n",
    "\n",
    "y, si previamente tenemos $M_I$ con tres operaciones tenemos la suma de los elementos de cualquier región. Si tenemos que calcular muchas regiones, entonces al calcular previamente $M_I$, usando la forma anterior tendremos un proceso mucho menos pesado computacionalmente.\n",
    "\n",
    "Observa igualmente la relación entre las coordenadas de los distintos puntos, por ejemplo, el punto $a=(a_r, a_c)$ y $t=(t_r, r_c)$ en donde, $a_r = t_r - 1$ y $a_c=t_c-1$. En cambio, $d_r=c_r$ y $d_c=t_c-1$\n",
    "\n",
    "<img src=\"imgs/integral.png\"/>"
   ]
  },
  {
   "cell_type": "markdown",
   "metadata": {},
   "source": [
    "Completa la función `get_submatrix_sum_using_integral` para que, dada una matriz integral, devuelva la suma de la submatriz indicada por `topleft_row`, `topleft_col`, `height`, `width`. Ignora el argumento `image` que lo incluimos por compatibilidad con el resto del código.\n",
    "\n",
    "**Ejecución de ejemplo**\n",
    "\n",
    "Matriz original `M`\n",
    "\n",
    "\n",
    "    [[ 1  1  1  1  1  1  1  1  1  1]\n",
    "     [ 2  2  2  2  2  2  2  2  2  2]\n",
    "     [ 3  3  3  3  3  3  3  3  3  3]\n",
    "     [ 4  4  4  4  4  4  4  4  4  4]\n",
    "     [ 5  7  5  5  5  5  5  5  5  5]\n",
    "     [ 6  6  6  6  6  6  6  6  6  6]\n",
    "     [ 7  7  7  7  7  7  7  7  7  7]\n",
    "     [ 8  8  8  8  8  8  8  8  8  8]\n",
    "     [ 9  9  9  9  9  9  9  9  9  9]\n",
    "     [10 10 10 10 10 10 10 10 10 10]]\n",
    "\n",
    "Matriz integral `Mi` \n",
    "\n",
    "\n",
    "    [[  1   2   3   4   5   6   7   8   9  10]\n",
    "     [  3   6   9  12  15  18  21  24  27  30]\n",
    "     [  6  12  18  24  30  36  42  48  54  60]\n",
    "     [ 10  20  30  40  50  60  70  80  90 100]\n",
    "     [ 15  32  47  62  77  92 107 122 137 152]\n",
    "     [ 21  44  65  86 107 128 149 170 191 212]\n",
    "     [ 28  58  86 114 142 170 198 226 254 282]\n",
    "     [ 36  74 110 146 182 218 254 290 326 362]\n",
    "     [ 45  92 137 182 227 272 317 362 407 452]\n",
    "     [ 55 112 167 222 277 332 387 442 497 552]]\n",
    "     \n",
    "\n",
    "    > get_submatrix_sum_using_integral(M, Mi, 1,2,4,6)\n",
    "    > 84\n",
    "    > np.sum(M[1:5,2:8])\n",
    "    > 84\n",
    "    > get_submatrix_sum_using_integral(M, Mi, 0,4,1,3)\n",
    "    > 3\n",
    "    > np.sum(M[0:1,4:7])\n",
    "    > 3\n",
    "    > get_submatrix_sum_using_integral(M, Mi, 1,6,4,3)\n",
    "    > 42\n",
    "    > np.sum(M[1:5,6:9])\n",
    "    > 42\n",
    "    > get_submatrix_sum_using_integral(M, Mi, 0,0,3,1)\n",
    "    > 6\n",
    "    > np.sum(M[0:3,0:1])\n",
    "    > 6\n",
    "\n",
    "    > extract_haar(haar_1, M, Mi)\n",
    "    > -248\n",
    "    > extract_haar(haar_1, M, Mi, submatrix_sum_function=get_submatrix_sum_using_integral)\n",
    "    > -248"
   ]
  },
  {
   "cell_type": "code",
   "execution_count": 5,
   "metadata": {
    "collapsed": true
   },
   "outputs": [],
   "source": [
    "import sys\n",
    "import numpy as np\n",
    "sys.path.append(\"code\")\n",
    "%matplotlib inline\n",
    "from haar import *\n",
    "\n",
    "def get_submatrix_sum_using_integral(image, integral, topleft_row, topleft_col, height, width):\n",
    "    \n",
    "    # TU CODIGO AQUI\n",
    "    Sx = topleft_col+width-1\n",
    "    Sy = topleft_row+height-1\n",
    "    S= integral[Sy,Sx] if Sy>=0 and Sx>=0 else 0 \n",
    "    \n",
    "    Ax = topleft_col-1\n",
    "    Ay =topleft_row-1\n",
    "    A = integral[Ay,Ax] if Ay>=0 and Ax>=0 else 0 \n",
    "    \n",
    "    Bx =topleft_col+width-1\n",
    "    By =topleft_row-1\n",
    "    B = integral[By,Bx]if By>=0 and Bx>=0 else 0 \n",
    "    \n",
    "    Cx=topleft_col-1\n",
    "    Cy=topleft_row+height-1\n",
    "    C = integral[Cy,Cx] if Cy>=0 and Cx>=0 else 0 \n",
    "    result = S+A-B-C\n",
    "    return result"
   ]
  },
  {
   "cell_type": "markdown",
   "metadata": {},
   "source": [
    "Comprueba tu código"
   ]
  },
  {
   "cell_type": "code",
   "execution_count": 6,
   "metadata": {},
   "outputs": [
    {
     "name": "stdout",
     "output_type": "stream",
     "text": [
      "[[ 1  1  1  1  1  1  1  1  1  1]\n",
      " [ 2  2  2  2  2  2  2  2  2  2]\n",
      " [ 3  3  3  3  3  3  3  3  3  3]\n",
      " [ 4  4  4  4  4  4  4  4  4  4]\n",
      " [ 5  7  5  5  5  5  5  5  5  5]\n",
      " [ 6  6  6  6  6  6  6  6  6  6]\n",
      " [ 7  7  7  7  7  7  7  7  7  7]\n",
      " [ 8  8  8  8  8  8  8  8  8  8]\n",
      " [ 9  9  9  9  9  9  9  9  9  9]\n",
      " [10 10 10 10 10 10 10 10 10 10]]\n",
      "[[  1   2   3   4   5   6   7   8   9  10]\n",
      " [  3   6   9  12  15  18  21  24  27  30]\n",
      " [  6  12  18  24  30  36  42  48  54  60]\n",
      " [ 10  20  30  40  50  60  70  80  90 100]\n",
      " [ 15  32  47  62  77  92 107 122 137 152]\n",
      " [ 21  44  65  86 107 128 149 170 191 212]\n",
      " [ 28  58  86 114 142 170 198 226 254 282]\n",
      " [ 36  74 110 146 182 218 254 290 326 362]\n",
      " [ 45  92 137 182 227 272 317 362 407 452]\n",
      " [ 55 112 167 222 277 332 387 442 497 552]]\n",
      "84\n",
      "84\n",
      "3\n",
      "3\n",
      "42\n",
      "42\n",
      "6\n",
      "6\n",
      "-248\n",
      "-248\n"
     ]
    }
   ],
   "source": [
    "M = create_sample_matrix(10)\n",
    "Mi = get_integral(M)\n",
    "print (M)\n",
    "print (Mi)\n",
    "\n",
    "print (get_submatrix_sum_using_integral(None, Mi, 1,2,4,6))\n",
    "print (np.sum(M[1:5,2:8]))\n",
    "print (get_submatrix_sum_using_integral(None, Mi, 0,4,1,3))\n",
    "print (np.sum(M[0:1,4:7]))\n",
    "print (get_submatrix_sum_using_integral(None, Mi, 1,6,4,3))\n",
    "print (np.sum(M[1:5,6:9]))\n",
    "print (get_submatrix_sum_using_integral(None, Mi, 0,0,3,1))\n",
    "print (np.sum(M[0:3,0:1]))\n",
    "\n",
    "print (extract_haar(haar_1, M, None))\n",
    "print (extract_haar(haar_1, None, Mi, submatrix_sum_function=get_submatrix_sum_using_integral))\n"
   ]
  },
  {
   "cell_type": "markdown",
   "metadata": {},
   "source": [
    "<font style=\"color: red\">comprueba tu progreso hasta ahora</font>"
   ]
  },
  {
   "cell_type": "markdown",
   "metadata": {
    "collapsed": true
   },
   "source": [
    "%run -i code/p_02B_eval"
   ]
  },
  {
   "cell_type": "markdown",
   "metadata": {},
   "source": [
    "Mide y compara la eficiencia de tu código"
   ]
  },
  {
   "cell_type": "code",
   "execution_count": 8,
   "metadata": {},
   "outputs": [
    {
     "name": "stdout",
     "output_type": "stream",
     "text": [
      "72.1 µs ± 1.49 µs per loop (mean ± std. dev. of 7 runs, 10000 loops each)\n",
      "10.6 µs ± 222 ns per loop (mean ± std. dev. of 7 runs, 100000 loops each)\n"
     ]
    }
   ],
   "source": [
    "M = create_sample_matrix(300)\n",
    "Mi = get_integral(M)\n",
    "%timeit extract_haar(haar_1, M, Mi)\n",
    "%timeit extract_haar(haar_1, M, Mi, submatrix_sum_function=get_submatrix_sum_using_integral)"
   ]
  },
  {
   "cell_type": "markdown",
   "metadata": {},
   "source": [
    "### Ejercicio 3:  Construye dataset MNIST con características Haar\n",
    "\n",
    "observa como se carga el dataset MNIST y se obtienen las características Haar de la primera imagen con diferentes niveles de escalado y desplazamiento, según el parámetro `N` con la función `get_haar_features`. Previamente calculamos la imagen integral con `get_integral`"
   ]
  },
  {
   "cell_type": "code",
   "execution_count": 9,
   "metadata": {},
   "outputs": [
    {
     "name": "stdout",
     "output_type": "stream",
     "text": [
      "dimension de las imagenes y las clases (1500,) (1500, 784)\n"
     ]
    }
   ],
   "source": [
    "import numpy as np\n",
    "mnist = np.loadtxt(\"data/mnist1.5k.csv\", delimiter=\",\")\n",
    "pixeles=mnist[:,1:785]\n",
    "numeros=mnist[:,0]\n",
    "print (\"dimension de las imagenes y las clases\", numeros.shape, pixeles.shape)"
   ]
  },
  {
   "cell_type": "code",
   "execution_count": 10,
   "metadata": {},
   "outputs": [
    {
     "name": "stdout",
     "output_type": "stream",
     "text": [
      "number of features 200\n",
      "[0.0, 0.0, 0.0, -1324.0, 0.0, 0.0, -863.0, 583.0, 0.0, -411.0, -84.0, 240.0, 0.0, -893.0, 950.0, 0.0, 0.0, 0.0, -1137.0, 0.0, -863.0, -290.0, -20.0, -104.0, 156.0, -1289.0, -339.0, 950.0, 0.0, -1324.0, -863.0, -280.0, -104.0, 136.0, -339.0, -339.0, -1137.0, -290.0, 136.0, -339.0, 0.0, 0.0, -1632.0, -2228.0, 0.0, -411.0, -3476.0, 3312.0, 0.0, -4180.0, 3548.0, 240.0, 0.0, -1632.0, -4037.0, -20.0, -3496.0, -174.0, -3565.0, -17.0, 3788.0, -1632.0, -3860.0, -3496.0, -184.0, -17.0, 223.0, -4037.0, -194.0, 223.0, 0.0, -188.0, -5220.0, 895.0, 0.0, -4028.0, -621.0, 3633.0, 0.0, -5220.0, -4522.0, -2762.0, -3383.0, 3002.0, -5220.0, -4325.0, -3383.0, 250.0, -4522.0, 240.0, 0.0, -4028.0, -5645.0, 4477.0, -2762.0, -8407.0, -1365.0, -8407.0, -3930.0, -4127.0, 0.0, 0.0, 0.0, -942.0, 0.0, 0.0, -1586.0, 2096.0, 0.0, -20.0, -336.0, 240.0, 0.0, -2376.0, 1560.0, 0.0, 0.0, 0.0, -1324.0, 0.0, -1632.0, -1920.0, -411.0, -4697.0, 4868.0, -4591.0, 3031.0, 1560.0, 0.0, -1137.0, -888.0, -5128.0, -4615.0, -556.0, -4749.0, 5145.0, -1137.0, -5174.0, -5328.0, 2025.0, 0.0, 0.0, -892.0, 995.0, 0.0, -20.0, -1228.0, 2177.0, 0.0, -1982.0, 1093.0, 240.0, 0.0, -892.0, -3825.0, -411.0, -5589.0, 2367.0, -4028.0, -2509.0, 6297.0, -401.0, -5412.0, -5016.0, -4831.0, -8568.0, 3615.0, -5412.0, -9603.0, -4015.0, 0.0, -20.0, -1228.0, 1235.0, 0.0, -2396.0, 332.0, 2177.0, -411.0, -5589.0, 1043.0, -5002.0, -2558.0, 3927.0, -5016.0, -5968.0, -9765.0, 314.0, -10740.0, -7578.0, 0.0, -1982.0, 201.0, 1235.0, -4028.0, -3401.0, 2472.0, -8969.0, -1797.0, -9427.0]\n"
     ]
    }
   ],
   "source": [
    "import sys\n",
    "import numpy as np\n",
    "sys.path.append(\"code\")\n",
    "%matplotlib inline\n",
    "from haar import *\n",
    "\n",
    "haar_1 = [ {\"op\": \"add\", \"topleft_row_rel\": 0.0, \"topleft_col_rel\": 0.0, \"height_rel\": 0.5, \"width_rel\": 1.0},\n",
    "           {\"op\": \"sub\", \"topleft_row_rel\": 0.5, \"topleft_col_rel\": 0.0, \"height_rel\": 0.5, \"width_rel\": 1.0}]\n",
    "\n",
    "haar_2 = [ {\"op\": \"add\", \"topleft_row_rel\": 0.0, \"topleft_col_rel\": 0.0, \"height_rel\": 1.0, \"width_rel\": 0.5},\n",
    "           {\"op\": \"sub\", \"topleft_row_rel\": 0.0, \"topleft_col_rel\": 0.5, \"height_rel\": 1.0, \"width_rel\": 0.5}]\n",
    "\n",
    "haar_features = [ haar_1, haar_2 ]\n",
    "\n",
    "N=6\n",
    "haar_features = [ haar_1, haar_2]\n",
    "M  = pixeles[0].reshape(28,28)\n",
    "Mi = get_integral(M)\n",
    "hf = get_haar_features(haar_features, M, Mi, nb_scales=N, nb_shifts=N)\n",
    "print (\"number of features\", len(hf))\n",
    "print (hf)"
   ]
  },
  {
   "cell_type": "markdown",
   "metadata": {},
   "source": [
    "Completa la función `make_haar_dataset` para que dados los datos de MNIST (la variable `pixeles`) devuelva una matriz en la que cada fila contenga las características `haar` del dígito MNIST de fila correspondiente en la matriz original.\n",
    "\n",
    "**Ejecución de ejemplo**\n",
    "\n",
    "    > haar_features = [ haar_1, haar_2 ]\n",
    "    > d_haar = make_haar_dataset_for_MNIST(haar_features, d, 6)\n",
    "    > print \"haar dataset size\", d_haar.shape\n",
    "    > print \"checksum\", np.sum(d_haar)\n",
    "\n",
    "    number of haar features 200\n",
    "     0% completed\n",
    "     5% completed\n",
    "    10% completed\n",
    "    ...\n",
    "    90% completed\n",
    "    95% completed\n",
    "    haar dataset size (1500, 200)\n",
    "    checksum -473660366.0\n"
   ]
  },
  {
   "cell_type": "code",
   "execution_count": 11,
   "metadata": {
    "collapsed": true
   },
   "outputs": [],
   "source": [
    "haar_features = [ haar_1, haar_2 ]\n",
    "\n",
    "def make_haar_dataset_for_MNIST(haar_features, pixeles, N):\n",
    "\n",
    "    M  = pixeles[0].reshape(28,28)\n",
    "    Mi = get_integral(M)\n",
    "    num_feats = len(get_haar_features(haar_features, M, Mi, nb_scales=N, nb_shifts=N))\n",
    "    print (\"number of haar features\", num_feats)\n",
    "    pixeles_haar = np.zeros((pixeles.shape[0], num_feats))\n",
    "    for i in range(pixeles.shape[0]):\n",
    "        if i%(pixeles.shape[0]/20)==0:\n",
    "            print (\"{0:2.0f}% completed\".format(i*1./pixeles.shape[0] * 100))\n",
    "            \n",
    "        M  = pixeles[i].reshape(28,28)\n",
    "        Mi = get_integral(M)\n",
    "        features = get_haar_features(haar_features, M, Mi, nb_scales=N, nb_shifts=N)\n",
    "        pixeles_haar[i] = features\n",
    "    return pixeles_haar"
   ]
  },
  {
   "cell_type": "markdown",
   "metadata": {},
   "source": [
    "Comprueba tu código **LA VARIABLE `d_haar` HA DE CONTENER EL DATASET OBTENIDO CON N=6, NO LE CAMBIES EL NOMBRE**"
   ]
  },
  {
   "cell_type": "code",
   "execution_count": 12,
   "metadata": {},
   "outputs": [
    {
     "name": "stdout",
     "output_type": "stream",
     "text": [
      "number of haar features 200\n",
      " 0% completed\n",
      " 5% completed\n",
      "10% completed\n",
      "15% completed\n",
      "20% completed\n",
      "25% completed\n",
      "30% completed\n",
      "35% completed\n",
      "40% completed\n",
      "45% completed\n",
      "50% completed\n",
      "55% completed\n",
      "60% completed\n",
      "65% completed\n",
      "70% completed\n",
      "75% completed\n",
      "80% completed\n",
      "85% completed\n",
      "90% completed\n",
      "95% completed\n",
      "haar dataset size (1500, 200)\n",
      "checksum -473660366.0\n"
     ]
    }
   ],
   "source": [
    "haar_features = [ haar_1, haar_2 ]\n",
    "pixeles_haar = make_haar_dataset_for_MNIST(haar_features, pixeles, 6)\n",
    "print (\"haar dataset size\", pixeles_haar.shape)\n",
    "print (\"checksum\", np.sum(pixeles_haar))"
   ]
  },
  {
   "cell_type": "markdown",
   "metadata": {},
   "source": [
    "<font style=\"color: red\">comprueba tu progreso hasta ahora</font>"
   ]
  },
  {
   "cell_type": "markdown",
   "metadata": {
    "collapsed": true
   },
   "source": [
    "%run -i code/p_02B_eval"
   ]
  },
  {
   "cell_type": "markdown",
   "metadata": {},
   "source": [
    "Observa cómo se comporta el clasificador usando las características Haar"
   ]
  },
  {
   "cell_type": "code",
   "execution_count": 14,
   "metadata": {},
   "outputs": [
    {
     "name": "stdout",
     "output_type": "stream",
     "text": [
      "dimensiones train (1200, 200) (1200,)\n",
      "dimsensions test  (300, 200) (300,)\n",
      "acierto en train 0.841666666667\n",
      "acierto en test  0.803333333333\n",
      "[[19  0  0  0  1  2  0  0  0  0]\n",
      " [ 0 28  0  1  0  0  0  0  1  0]\n",
      " [ 0  0 27  3  0  3  1  0  0  0]\n",
      " [ 0  1  1 25  0  0  0  1  3  1]\n",
      " [ 0  0  0  1 21  0  3  0  0  3]\n",
      " [ 0  2  0  1  0 20  1  1  1  1]\n",
      " [ 0  1  2  0  0  0 28  0  0  0]\n",
      " [ 1  0  0  0  0  0  0 19  1  5]\n",
      " [ 0  3  0  2  0  4  0  0 25  2]\n",
      " [ 1  0  0  0  1  0  0  2  1 29]]\n"
     ]
    }
   ],
   "source": [
    "from sklearn.naive_bayes import GaussianNB\n",
    "from sklearn import cross_validation\n",
    "from sklearn.metrics import confusion_matrix\n",
    "\n",
    "test_size = 0.2\n",
    "\n",
    "pixeles_train, pixeles_test, numeros_train, numeros_test = cross_validation.train_test_split(pixeles_haar, \n",
    "                                                                     numeros, \n",
    "                                                                     test_size=test_size, \n",
    "                                                                     random_state=np.random.randint(1,100))\n",
    "\n",
    "print (\"dimensiones train\", pixeles_train.shape, numeros_train.shape)\n",
    "print (\"dimsensions test \", pixeles_test.shape, numeros_test.shape)\n",
    "\n",
    "clf_g = GaussianNB()\n",
    "clf_g.fit(pixeles_train, numeros_train)\n",
    "print (\"acierto en train\", clf_g.score(pixeles_train, numeros_train))\n",
    "print (\"acierto en test \", clf_g.score(pixeles_test, numeros_test))\n",
    "print (confusion_matrix (numeros_test, clf_g.predict(pixeles_test)))"
   ]
  },
  {
   "cell_type": "markdown",
   "metadata": {},
   "source": [
    "lo comparamos con validación cruzada con la clasificación basada únicamente en pixeles"
   ]
  },
  {
   "cell_type": "code",
   "execution_count": 15,
   "metadata": {},
   "outputs": [
    {
     "name": "stdout",
     "output_type": "stream",
     "text": [
      "with pixels\n",
      "   0.592048541262 0.0216192074063\n",
      "with haar\n",
      "   0.814548880613 0.0278963321275\n"
     ]
    }
   ],
   "source": [
    "from sklearn.cross_validation import cross_val_score, StratifiedKFold\n",
    "\n",
    "clf_g = GaussianNB()\n",
    "skf = cross_validation.StratifiedKFold(numeros, n_folds=5, shuffle=True, random_state=np.random.randint(1,100))\n",
    "sc = cross_val_score(clf_g, pixeles, numeros, cv=skf)\n",
    "print (\"with pixels\")\n",
    "print (\"  \", np.mean(sc), np.std(sc))\n",
    "sc = cross_val_score(clf_g, pixeles_haar, numeros, cv=skf)\n",
    "print (\"with haar\")\n",
    "print (\"  \", np.mean(sc), np.std(sc))"
   ]
  }
 ],
 "metadata": {
  "kernelspec": {
   "display_name": "Python 3",
   "language": "python",
   "name": "python3"
  },
  "language_info": {
   "codemirror_mode": {
    "name": "ipython",
    "version": 3
   },
   "file_extension": ".py",
   "mimetype": "text/x-python",
   "name": "python",
   "nbconvert_exporter": "python",
   "pygments_lexer": "ipython3",
   "version": "3.6.3"
  },
  "widgets": {
   "application/vnd.jupyter.widget-state+json": {
    "state": {},
    "version_major": 2,
    "version_minor": 0
   }
  }
 },
 "nbformat": 4,
 "nbformat_minor": 1
}
