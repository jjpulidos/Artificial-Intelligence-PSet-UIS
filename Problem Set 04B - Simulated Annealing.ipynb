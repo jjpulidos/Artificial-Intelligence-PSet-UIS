{
 "cells": [
  {
   "cell_type": "markdown",
   "metadata": {},
   "source": [
    "## Problem Set 04B - Knapsack Problem con Simulated Annealing\n",
    "\n",
    "Resolveremos el mismo problema del Problem Set anterior pero con Simulated Annealing"
   ]
  },
  {
   "cell_type": "markdown",
   "metadata": {},
   "source": [
    "### Ejercicio 1: Completa las funciones de costo e inicialización como lo hiciste en el problem set anterior. Crea la función `KS_neighbour`"
   ]
  },
  {
   "cell_type": "code",
   "execution_count": null,
   "metadata": {
    "collapsed": true
   },
   "outputs": [],
   "source": [
    "def KS_isvalid(solution, object_volumes, KS_volume):\n",
    "    return np.sum(solution*object_volumes)<=KS_volume\n",
    "\n",
    "def KS_initialize_population(n_individuals, object_volumes, KS_volume):\n",
    "    # TU CODIGO AQUI\n",
    "    return population\n",
    "\n",
    "\n",
    "def KS_cost(solution, object_values, object_volumes, KS_volume):\n",
    "    # TU CODIGO AQUI    \n",
    "    return cost\n",
    "\n",
    "def KS_neighbour(solution, object_volumes, KS_volume):\n",
    "    # TU CODIGO AQUI    \n",
    "    return neighbor "
   ]
  },
  {
   "cell_type": "markdown",
   "metadata": {},
   "source": [
    "### Ejercicio 2: Define las condiciones iniciales del problema KS como en el Problem Set anterior"
   ]
  },
  {
   "cell_type": "code",
   "execution_count": null,
   "metadata": {},
   "outputs": [],
   "source": [
    "%run code/sa.py\n",
    "import numpy as np\n",
    "import matplotlib.pyplot as plt\n",
    "%matplotlib inline\n",
    "\n",
    "n_objects         = # TU CODIGO AQUI \n",
    "KS_volume         = # TU CODIGO AQUI \n",
    "\n",
    "object_values  = # TU CODIGO AQUI \n",
    "object_volumes = # TU CODIGO AQUI \n",
    "\n",
    "\n",
    "print \"total volume of objects\", np.sum(object_volumes)\n",
    "print \"knapsack max volume    \", KS_volume\n",
    "print \"total value of objects \", np.sum(object_values)\n",
    "\n",
    "print object_values\n",
    "print object_volumes"
   ]
  },
  {
   "cell_type": "markdown",
   "metadata": {},
   "source": [
    "### Ejercicio 3: Ejecuta el algoritmo con:\n",
    "\n",
    "- 10 individuos y 50 pasos de enfriamiento\n",
    "- 100 individuos y 500 pasos de enfriamiento\n",
    "- 100 individuos y 5000 pasos de enfriamiento"
   ]
  },
  {
   "cell_type": "code",
   "execution_count": null,
   "metadata": {},
   "outputs": [],
   "source": [
    "%run code/sa.py\n",
    "\n",
    "n_individuals   = # TU CODIGO AQUI \n",
    "n_cooling_steps = # TU CODIGO AQUI \n",
    "\n",
    "\n",
    "bestsol, bests, means, stds = run_sa(n_individuals              = # TU CODIGO AQUI , \n",
    "                                     n_cooling_steps            = # TU CODIGO AQUI , \n",
    "                                     init_population_function   = # TU CODIGO AQUI , \n",
    "                                     cost_function              = # TU CODIGO AQUI ,\n",
    "                                     generate_neighbor_function = # TU CODIGO AQUI  )\n",
    "\n",
    "print \"best knapsack is\", bestsol, \"cost\", np.min(bests), \"value\", np.sum(bestsol*object_values), \"volume\", np.sum(bestsol*object_volumes)\n",
    "plot_evolution(bests, means, stds)"
   ]
  },
  {
   "cell_type": "code",
   "execution_count": null,
   "metadata": {},
   "outputs": [],
   "source": [
    "%run code/sa.py\n",
    "\n",
    "n_individuals   = # TU CODIGO AQUI \n",
    "n_cooling_steps = # TU CODIGO AQUI \n",
    "\n",
    "\n",
    "bestsol, bests, means, stds = run_sa(n_individuals              = # TU CODIGO AQUI , \n",
    "                                     n_cooling_steps            = # TU CODIGO AQUI , \n",
    "                                     init_population_function   = # TU CODIGO AQUI , \n",
    "                                     cost_function              = # TU CODIGO AQUI ,\n",
    "                                     generate_neighbor_function = # TU CODIGO AQUI  )\n",
    "                                     \n",
    "print \"best knapsack is\", bestsol, \"cost\", np.min(bests), \"value\", np.sum(bestsol*object_values), \"volume\", np.sum(bestsol*object_volumes)\n",
    "plot_evolution(bests, means, stds)"
   ]
  },
  {
   "cell_type": "code",
   "execution_count": null,
   "metadata": {},
   "outputs": [],
   "source": [
    "%run code/sa.py\n",
    "\n",
    "n_individuals   = # TU CODIGO AQUI \n",
    "n_cooling_steps = # TU CODIGO AQUI \n",
    "\n",
    "\n",
    "bestsol, bests, means, stds = run_sa(n_individuals              = # TU CODIGO AQUI , \n",
    "                                     n_cooling_steps            = # TU CODIGO AQUI , \n",
    "                                     init_population_function   = # TU CODIGO AQUI , \n",
    "                                     cost_function              = # TU CODIGO AQUI ,\n",
    "                                     generate_neighbor_function = # TU CODIGO AQUI  )\n",
    "                                     \n",
    "print \"best knapsack is\", bestsol, \"cost\", np.min(bests), \"value\", np.sum(bestsol*object_values), \"volume\", np.sum(bestsol*object_volumes)\n",
    "plot_evolution(bests, means, stds)"
   ]
  },
  {
   "cell_type": "code",
   "execution_count": null,
   "metadata": {
    "collapsed": true
   },
   "outputs": [],
   "source": []
  }
 ],
 "metadata": {
  "kernelspec": {
   "display_name": "Python 3",
   "language": "python",
   "name": "python3"
  },
  "language_info": {
   "codemirror_mode": {
    "name": "ipython",
    "version": 3
   },
   "file_extension": ".py",
   "mimetype": "text/x-python",
   "name": "python",
   "nbconvert_exporter": "python",
   "pygments_lexer": "ipython3",
   "version": "3.6.3"
  }
 },
 "nbformat": 4,
 "nbformat_minor": 1
}
