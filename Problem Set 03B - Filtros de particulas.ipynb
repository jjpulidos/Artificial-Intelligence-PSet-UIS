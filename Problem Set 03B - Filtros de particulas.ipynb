{
 "cells": [
  {
   "cell_type": "markdown",
   "metadata": {},
   "source": [
    "Observa cómo modelamos con una clase Python un robot en 2D con orientación. Esta clase la usamos para representar nuestro robot y también para representar las partículas"
   ]
  },
  {
   "cell_type": "code",
   "execution_count": 3,
   "metadata": {
    "collapsed": true
   },
   "outputs": [],
   "source": [
    "from math import *\n",
    "import matplotlib.pyplot as plt\n",
    "%matplotlib inline\n",
    "from random import gauss\n",
    "import numpy as np\n",
    "import bisect\n",
    "\n",
    "%run -i code/filter.py\n",
    "\n",
    "class RobotPosition:\n",
    "    def __init__(self, landmarks, world_size):\n",
    "        self.x = random.random() * world_size\n",
    "        self.y = random.random() * world_size\n",
    "        self.orientation = random.random() * 2.0 * pi\n",
    "        self.forward_noise = 0.0;\n",
    "        self.turn_noise    = 0.0;\n",
    "        self.sense_noise   = 1.0;\n",
    "        self.landmarks  = landmarks\n",
    "        self.world_size = world_size\n",
    "    \n",
    "    def set(self, new_x, new_y, new_orientation):\n",
    "        if new_x < 0 or new_x >= self.world_size:\n",
    "            raise (ValueError, 'X coordinate out of bound')\n",
    "        if new_y < 0 or new_y >= self.world_size:\n",
    "            raise (ValueError, 'Y coordinate out of bound')\n",
    "        if new_orientation < 0 or new_orientation >= 2 * pi:\n",
    "            raise (ValueError, 'Orientation must be in [0..2pi]')\n",
    "        self.x = float(new_x)\n",
    "        self.y = float(new_y)\n",
    "        self.orientation = float(new_orientation)\n",
    "    \n",
    "    \n",
    "    def set_noise(self, new_f_noise, new_t_noise, new_s_noise):\n",
    "        # makes it possible to change the noise parameters\n",
    "        # this is often useful in particle filters\n",
    "        self.forward_noise = float(new_f_noise);\n",
    "        self.turn_noise    = float(new_t_noise);\n",
    "        self.sense_noise   = float(new_s_noise);\n",
    "    \n",
    "    \n",
    "    def sense(self):\n",
    "        Z = []\n",
    "        for i in range(len(self.landmarks)):\n",
    "            dist = sqrt((self.x - self.landmarks[i][0]) ** 2 + (self.y - self.landmarks[i][1]) ** 2)\n",
    "            dist += gauss(0.0, self.sense_noise)\n",
    "            Z.append(dist)\n",
    "        return Z\n",
    "    \n",
    "    \n",
    "    def move(self, turn, forward):\n",
    "        if forward < 0:\n",
    "            raise( ValueError, 'Robot cant move backwards'  )       \n",
    "        \n",
    "        # turn, and add randomness to the turning command\n",
    "        orientation = (self.orientation + float(turn) + gauss(0.0, self.turn_noise)) % (2*pi)\n",
    "        \n",
    "        # move, and add randomness to the motion command\n",
    "        dist = float(forward) + gauss(0.0, self.forward_noise)\n",
    "        x = ( self.x + (cos(orientation) * dist) ) % self.world_size\n",
    "        y = ( self.y + (sin(orientation) * dist) ) % self.world_size\n",
    "        \n",
    "        # set particle\n",
    "        res = RobotPosition(self.landmarks, self.world_size)\n",
    "        res.set(x, y, orientation)\n",
    "        res.set_noise(self.forward_noise, self.turn_noise, self.sense_noise)\n",
    "        res.landmarks = self.landmarks\n",
    "        res.world_size = self.world_size\n",
    "        return res\n",
    "    \n",
    "    def __repr__(self):\n",
    "        return '[x=%.6s y=%.6s orient=%.6s]' % (str(self.x), str(self.y), str(self.orientation))"
   ]
  },
  {
   "cell_type": "markdown",
   "metadata": {},
   "source": [
    "Observa cómo creamos un robot y tratamos de medir su distancia a las balizas"
   ]
  },
  {
   "cell_type": "code",
   "execution_count": 4,
   "metadata": {},
   "outputs": [
    {
     "name": "stdout",
     "output_type": "stream",
     "text": [
      "[x=70 y=70 orient=3.6441]\n",
      "[70.27316994951228, 12.333179273897294, 49.56263072562191, 49.483904471633394]\n",
      "[73.83227148953306, 15.502303679419422, 48.03884577907096, 52.340614741342925]\n",
      "[70.8523968218591, 15.122312052414953, 51.45642398551663, 50.69907777507085]\n"
     ]
    }
   ],
   "source": [
    "lmarks  = [[20.0, 20.0], [80.0, 80.0], [20.0, 80.0], [80.0, 20.0]]\n",
    "wsize   = 100.0\n",
    "\n",
    "myrobot = RobotPosition(lmarks, wsize)\n",
    "myrobot.x, myrobot.y = 70,70\n",
    "myrobot.sense_noise  = 2.\n",
    "print (myrobot)\n",
    "print (myrobot.sense())\n",
    "print (myrobot.sense())\n",
    "print (myrobot.sense())"
   ]
  },
  {
   "cell_type": "markdown",
   "metadata": {},
   "source": [
    "### Problema 1\n",
    "\n",
    "Crea una función que para una partícula y una medida, devuelva la probabilidad de que la partícula haya realizado esa medida, según lo descrito en las notas de la lección ([aquí](Notas%2003C%20-%20Filtros%20de%20Partículas.ipynb))\n",
    "\n",
    "El argumento `particula` es una instancia de la clase `RobotPosition`. La clase tiene un atributo `landmarks` que es una lista de tuplas con las posiciones de las balizas. El argumento `measurement` es una lista con tantos elementos como balizas y contiene la medida realizada por un robot a cada una de las balizas.\n",
    "\n",
    "**Ejemplo de ejecución**\n",
    "\n",
    "Entrada:\n",
    "\n",
    "    lmarks  = [[20.0, 20.0], [80.0, 80.0], [20.0, 80.0], [80.0, 20.0]]\n",
    "    wsize   = 100.0\n",
    "\n",
    "    myrobot = RobotPosition(lmarks, wsize)\n",
    "    myrobot.x, myrobot.y = 70,70\n",
    "    myrobot.sense_noise  = 5.\n",
    "    measurement = myrobot.sense()\n",
    "    print myrobot\n",
    "\n",
    "    p = RobotPosition(lmarks, wsize)\n",
    "    p.x, p.y = myrobot.x, myrobot.y\n",
    "    p.sense_noise = myrobot.sense_noise\n",
    "    print p\n",
    "    print measurement_prob(p,measurement)\n",
    "\n",
    "    for i in range(10):\n",
    "        p = RobotPosition(lmarks, wsize)\n",
    "        p.sense_noise = myrobot.sense_noise\n",
    "        prob = measurement_prob(p,measurement)\n",
    "        print p, prob\n",
    "    \n",
    "    \n",
    "Salida (los valores serán distintos pero de magnitud similar):\n",
    "\n",
    "    [x=70 y=70 orient=0.5939]\n",
    "    [x=70 y=70 orient=4.7417]\n",
    "    1.20739526925e-05\n",
    "    [x=35.058 y=22.766 orient=2.5137] 1.57800255111e-70\n",
    "    [x=73.985 y=89.160 orient=0.0581] 4.68426868039e-09\n",
    "    [x=37.750 y=77.126 orient=1.0866] 4.58135003998e-25\n",
    "    [x=58.429 y=90.984 orient=0.8507] 1.09546626438e-10\n",
    "    [x=94.533 y=50.080 orient=0.1796] 3.87269033669e-24\n",
    "    [x=11.787 y=99.159 orient=0.0627] 5.16256080313e-64\n",
    "    [x=38.201 y=4.0926 orient=5.9957] 3.59484963092e-86\n",
    "    [x=40.393 y=94.338 orient=6.1878] 2.11978338183e-25\n",
    "    [x=30.119 y=20.642 orient=2.6737] 7.55580454417e-81\n",
    "    [x=96.038 y=96.639 orient=5.1351] 1.28879112854e-29"
   ]
  },
  {
   "cell_type": "code",
   "execution_count": 23,
   "metadata": {
    "collapsed": true
   },
   "outputs": [],
   "source": [
    "import numpy as np\n",
    "\n",
    "def Gaussian(mu, sigma, x):\n",
    "    # calculates the probability of x for 1-dim Gaussian with mean mu and var. sigma\n",
    "    return np.exp(- ((mu - x) ** 2) / (sigma ** 2) / 2.0) / np.sqrt(2.0 * pi * (sigma ** 2))\n",
    "\n",
    "\n",
    "def measurement_prob(particle, measurement):\n",
    "\n",
    "    # calculates how likely a measurement should be\n",
    "    \n",
    "    #measurement->lista con tantos elementos como balizas,contiene la medida realizada por un robot a cada una de las balizas\n",
    "    #[65.78568637695668, 21.16196116730348, 50.83054683619303, 49.59328462505256] ejemplo measurement\n",
    "    \"\"\"\n",
    "    Este es el d^r = {d^r_1, d^r_2, d^r_3, d^r_4}\n",
    "    particle.sense() -> d^p = { d^p_1, d^p_2, d^p_3, d^p_4}\n",
    "    \"\"\"\n",
    "    \n",
    "    #particle para landmarks ->lista de tuplas con las posiciones de las balizas.\n",
    "    #landmarks  = [[20.0, 20.0], [80.0, 80.0], [20.0, 80.0], [80.0, 20.0]] ejemplo particle.landmarks\n",
    "    \n",
    "  \n",
    "    prob = 1.0\n",
    "    #dist_particles = particle.sense()\n",
    "    for i in range(len(particle.landmarks)):\n",
    "        dist_particles = particle.sense()\n",
    "        #print(\"esto es dist_particles= \",dist_particles)\n",
    "        prob*=Gaussian(measurement[i],5,dist_particles[i])\n",
    "    return prob"
   ]
  },
  {
   "cell_type": "markdown",
   "metadata": {},
   "source": [
    "Comprueba tu código"
   ]
  },
  {
   "cell_type": "code",
   "execution_count": 26,
   "metadata": {},
   "outputs": [
    {
     "name": "stdout",
     "output_type": "stream",
     "text": [
      "[x=70 y=70 orient=3.5711]\n",
      "FIXED POSITION 5.95326635074e-20\n",
      "RANDOM PARTICLES\n",
      "[x=6.6105 y=40.991 orient=4.3998] 2.9087047103e-56\n",
      "[x=92.494 y=17.847 orient=3.4857] 7.87789318409e-31\n",
      "[x=65.451 y=18.990 orient=0.3355] 2.07714049631e-15\n",
      "[x=96.085 y=64.244 orient=3.7499] 6.89008613388e-23\n",
      "[x=42.009 y=78.273 orient=4.5879] 8.69449589841e-36\n",
      "[x=78.719 y=59.922 orient=5.3052] 4.73904704321e-12\n",
      "[x=19.229 y=31.371 orient=2.5889] 1.61552683467e-52\n",
      "[x=86.292 y=22.546 orient=6.0472] 1.88799334508e-29\n",
      "[x=71.895 y=90.039 orient=3.9030] 8.12472125838e-25\n",
      "[x=9.7073 y=81.420 orient=4.6095] 1.36676449079e-79\n"
     ]
    }
   ],
   "source": [
    "\"\"\"lmarks  = [[20.0, 20.0], [80.0, 80.0], [20.0, 80.0], [80.0, 20.0]]\n",
    "wsize   = 100.0\n",
    "\n",
    "myrobot = RobotPosition(lmarks, wsize)\n",
    "myrobot.x, myrobot.y = 70,70\n",
    "myrobot.sense_noise  = 5.\n",
    "measurement = myrobot.sense()\n",
    "print (myrobot)\n",
    "#print(measurement_prob(myrobot, measurement))\n",
    "\n",
    "p = RobotPosition(lmarks, wsize)\n",
    "p.x, p.y = myrobot.x, myrobot.y\n",
    "p.sense_noise = myrobot.sense_noise\n",
    "print(p)\n",
    "print (measurement_prob(p,measurement))\n",
    "\n",
    "for i in range(10):\n",
    "    p = RobotPosition(lmarks, wsize)\n",
    "    p.sense_noise = myrobot.sense_noise\n",
    "    prob = measurement_prob(p,measurement)\n",
    "    print (p, prob)\n",
    "\"\"\"\n",
    "lmarks  = [[20.0, 20.0], [80.0, 80.0], [20.0, 80.0], [80.0, 20.0]]\n",
    "wsize   = 100.0\n",
    "\n",
    "myrobot = RobotPosition(lmarks, wsize)\n",
    "myrobot.x, myrobot.y = 70,70\n",
    "myrobot.sense_noise  = 5.\n",
    "measurement = [56,30,60,30]\n",
    "print (myrobot)\n",
    "\n",
    "print (\"FIXED POSITION\", measurement_prob(myrobot, measurement))\n",
    "print (\"RANDOM PARTICLES\")\n",
    "for i in range(10):\n",
    "    p = RobotPosition(lmarks, wsize)\n",
    "    p.sense_noise = myrobot.sense_noise\n",
    "    prob = measurement_prob(p,measurement)\n",
    "    print (p, prob)"
   ]
  },
  {
   "cell_type": "markdown",
   "metadata": {},
   "source": [
    "### Problema 2"
   ]
  },
  {
   "cell_type": "markdown",
   "metadata": {},
   "source": [
    "completa la función `weighted_sample` para que dada una lista de pesos, muestree el índice de cada peso de manera proporcional al peso.\n",
    "\n",
    "**Ejemplo de ejecución**\n",
    "\n",
    "Entrada:\n",
    "\n",
    "    weights = np.array([0.8,0.2])\n",
    "    print weighted_sample(weights, n_samples=20)\n",
    "    print \"--\"\n",
    "\n",
    "    weights = np.array([0.1,0.3,0.4,0.05,0.1,0.05])\n",
    "    w = weighted_sample(weights, n_samples=10000)\n",
    "    print \"idx freq\"\n",
    "    for i in np.unique(w):\n",
    "        print \"%2d  %.3f\"%(i, np.sum(w==i)*1./len(w))\n",
    "\n",
    "\n",
    "Salida (los valores serán distintos pero de magnitud similar):\n",
    "\n",
    "    [0, 0, 0, 1, 0, 0, 0, 0, 0, 0, 0, 1, 1, 0, 0, 0, 0, 0, 0, 0]\n",
    "    --\n",
    "    idx freq\n",
    "     0  0.099\n",
    "     1  0.298\n",
    "     2  0.402\n",
    "     3  0.050\n",
    "     4  0.101\n",
    "     5  0.050\n"
   ]
  },
  {
   "cell_type": "code",
   "execution_count": 107,
   "metadata": {
    "collapsed": true
   },
   "outputs": [],
   "source": [
    "def weighted_sample(weight_list, n_samples=None):    \n",
    "    if n_samples is None:\n",
    "        n_samples=len(weight_list)\n",
    "    \n",
    "    result = []\n",
    "    # -- TU CODIGO AQUI ---\n",
    "    result=np.random.choice(len(weight_list), n_samples, p=weight_list)\n",
    "    # -----\n",
    "    return result\n"
   ]
  },
  {
   "cell_type": "markdown",
   "metadata": {},
   "source": [
    "Comprueba tu código"
   ]
  },
  {
   "cell_type": "code",
   "execution_count": 108,
   "metadata": {},
   "outputs": [
    {
     "name": "stdout",
     "output_type": "stream",
     "text": [
      "[0 1 0 0 1 0 0 1 1 0 0 0 1 1 0 0 0 0 0 0]\n",
      "--\n",
      "idx freq\n",
      " 0  0.099\n",
      " 1  0.306\n",
      " 2  0.392\n",
      " 3  0.048\n",
      " 4  0.105\n",
      " 5  0.050\n"
     ]
    }
   ],
   "source": [
    "weights = np.array([0.8,0.2])\n",
    "print (weighted_sample(weights, n_samples=20))\n",
    "print (\"--\")\n",
    "\n",
    "weights = np.array([0.1,0.3,0.4,0.05,0.1,0.05])\n",
    "w = weighted_sample(weights, n_samples=10000)\n",
    "print( \"idx freq\")\n",
    "for i in np.unique(w):\n",
    "    print (\"%2d  %.3f\"%(i, np.sum(w==i)*1./len(w)))\n"
   ]
  },
  {
   "cell_type": "code",
   "execution_count": null,
   "metadata": {
    "collapsed": true
   },
   "outputs": [],
   "source": []
  }
 ],
 "metadata": {
  "kernelspec": {
   "display_name": "Python 3",
   "language": "python",
   "name": "python3"
  },
  "language_info": {
   "codemirror_mode": {
    "name": "ipython",
    "version": 3
   },
   "file_extension": ".py",
   "mimetype": "text/x-python",
   "name": "python",
   "nbconvert_exporter": "python",
   "pygments_lexer": "ipython3",
   "version": "3.6.3"
  },
  "widgets": {
   "application/vnd.jupyter.widget-state+json": {
    "state": {},
    "version_major": 2,
    "version_minor": 0
   }
  }
 },
 "nbformat": 4,
 "nbformat_minor": 1
}
