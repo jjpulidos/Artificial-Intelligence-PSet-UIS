{
 "cells": [
  {
   "cell_type": "markdown",
   "metadata": {},
   "source": [
    "## Problem Set 1"
   ]
  },
  {
   "cell_type": "markdown",
   "metadata": {},
   "source": [
    "## <font style=\"color: red\"> Esta práctica contiene 4 ejercicios <!-- ONLY IN NOTEBOOK -->"
   ]
  },
  {
   "cell_type": "markdown",
   "metadata": {},
   "source": [
    "### Ejercicio 1: Generación de una matriz"
   ]
  },
  {
   "cell_type": "markdown",
   "metadata": {},
   "source": [
    "Completa la función `single_value_matrix` para que devuelva una matriz de tamaño $n\\_rows \\times n\\_cols$ con todos los elementos igual a $value$. Ejecuta y depura tu código con entradas de prueba, verifica que la salida es la esperada y prueba con nuevos valores.\n",
    "\n",
    "#### Ejemplo de ejecución\n",
    "\n",
    "    > single_value_matrix(n_rows=3, n_cols=4, value=5)\n",
    "    \n",
    "      [[ 5.  5.  5.  5.]\n",
    "       [ 5.  5.  5.  5.]\n",
    "       [ 5.  5.  5.  5.]]\n",
    "     \n",
    "_Sugerencia_: Usa la función `np.ones` de Numpy [[ref](http://docs.scipy.org/doc/numpy/reference/generated/numpy.ones.html)]"
   ]
  },
  {
   "cell_type": "code",
   "execution_count": 5,
   "metadata": {
    "collapsed": true
   },
   "outputs": [],
   "source": [
    "import numpy as np\n",
    "\n",
    "def single_value_matrix(n_rows, n_cols, value):\n",
    "    result = np.ones((n_rows,n_cols))*value\n",
    "    return result"
   ]
  },
  {
   "cell_type": "code",
   "execution_count": 6,
   "metadata": {},
   "outputs": [
    {
     "name": "stdout",
     "output_type": "stream",
     "text": [
      "[[ 5.  5.  5.  5.]\n",
      " [ 5.  5.  5.  5.]\n",
      " [ 5.  5.  5.  5.]]\n",
      "[[ 3.45  3.45]\n",
      " [ 3.45  3.45]\n",
      " [ 3.45  3.45]\n",
      " [ 3.45  3.45]]\n"
     ]
    }
   ],
   "source": [
    "# -- VERIFICA TU CODIGO --\n",
    "print (single_value_matrix(n_rows=3, n_cols=4, value=5))\n",
    "print (single_value_matrix(n_rows=4, n_cols=2, value=3.45))"
   ]
  },
  {
   "cell_type": "markdown",
   "metadata": {},
   "source": [
    "### Ejercicio 2: Suma de diferencias cuadradas de matrices"
   ]
  },
  {
   "cell_type": "markdown",
   "metadata": {},
   "source": [
    "Dadas dos matrices de igual tamaño, $A \\in \\mathbb{R}^{m\\times n}$ y $B \\in \\mathbb{R}^{m\\times n}$ la suma de las diferencias cuadradas entre los elementos de la matriz se define por:\n",
    "\n",
    "\n",
    "$$sum\\_squared\\_difference(A,B) = \\sum_{i=0}^m \\sum_{j=0}^n (a_{ij} - b_{ij})^2$$\n",
    "\n",
    "\n",
    "donde $a_{ij}$ es el elemento de la fila $i$ y columna $j$ de la matriz $A$. Completa la función `sum_squared_difference` con esta definición.\n",
    "\n",
    "\n",
    "#### Ejemplo de ejecución\n",
    "\n",
    "    > A = np.array([[1,2],[3,4]])\n",
    "    > B = np.array([[0,3],[4,6]])\n",
    "    > sum_squared_difference(A,B)\n",
    "    \n",
    "      7\n",
    "      \n",
    "_Sugerencia_ Usa la función `np.sum` de Numpy [[ref](http://docs.scipy.org/doc/numpy/reference/generated/numpy.sum.html)]"
   ]
  },
  {
   "cell_type": "code",
   "execution_count": 18,
   "metadata": {
    "collapsed": true
   },
   "outputs": [],
   "source": [
    "import numpy as np\n",
    "\n",
    "def sum_squared_difference(A,B):\n",
    "    aux = (A+(B*-1))**2\n",
    "    return np.sum(aux)"
   ]
  },
  {
   "cell_type": "code",
   "execution_count": 19,
   "metadata": {},
   "outputs": [
    {
     "name": "stdout",
     "output_type": "stream",
     "text": [
      "7\n"
     ]
    }
   ],
   "source": [
    "# VERIFICA TU CODIGO\n",
    "A = np.array([[1,2],[3,4]])\n",
    "B = np.array([[0,3],[4,6]])\n",
    "print (sum_squared_difference(A,B))"
   ]
  },
  {
   "cell_type": "markdown",
   "metadata": {},
   "source": [
    "### Ejercicio 3: Selección de elementos"
   ]
  },
  {
   "cell_type": "markdown",
   "metadata": {},
   "source": [
    "La función `seleccion_mayor` toma dos argumentos: un vector y un escalar. Debe de devolver los elementos del vector que son estrictamente mayores que el escalar "
   ]
  },
  {
   "cell_type": "markdown",
   "metadata": {},
   "source": [
    "#### Ejemplo de ejecución\n",
    "\n",
    "    > v1 = np.array([-4,5,-1,2,3,10,-2])\n",
    "    > print seleccion_mayor(v1, 0)\n",
    "    > print seleccion_mayor(v1,-2)\n",
    "    > print seleccion_mayor(v1,12)    \n",
    "    \n",
    "    [ 5  2  3 10]\n",
    "    [ 5 -1  2  3 10]\n",
    "    []        "
   ]
  },
  {
   "cell_type": "code",
   "execution_count": 27,
   "metadata": {
    "collapsed": true
   },
   "outputs": [],
   "source": [
    "import numpy as np\n",
    "\n",
    "def seleccion_mayor (V, umbral):\n",
    "    result = (V>umbral)\n",
    "    return V[result]"
   ]
  },
  {
   "cell_type": "code",
   "execution_count": 28,
   "metadata": {},
   "outputs": [
    {
     "name": "stdout",
     "output_type": "stream",
     "text": [
      "[ 5  2  3 10]\n",
      "[ 5 -1  2  3 10]\n",
      "[]\n"
     ]
    }
   ],
   "source": [
    "v1 = np.array([-4,5,-1,2,3,10,-2])\n",
    "print (seleccion_mayor(v1, 0))\n",
    "print (seleccion_mayor(v1,-2))\n",
    "print (seleccion_mayor(v1,12))"
   ]
  },
  {
   "cell_type": "markdown",
   "metadata": {},
   "source": [
    "### Ejercicio 4: Promedios y desviaciones estándar"
   ]
  },
  {
   "cell_type": "markdown",
   "metadata": {},
   "source": [
    "La función `means_stds` debe de retornar:\n",
    "\n",
    "- una tupla con la lista de promedios y la lista de desviaciones estándar por columna si `eje` es `\"columnas\"`\n",
    "- una tupla con la lista de promedios y la lista de desviaciones estándar por fila si `eje` es `\"filas\"`\n",
    "- la tupla `[None, None]` si la dimensión de de `m` no es 2.\n",
    "- la tupla `[None, None]` si `eje` no es ninguno de los dos valores anteriores\n",
    "\n",
    "El valor por defecto de `eje` debe de ser `\"columnas\"`\n",
    "\n",
    "**Ejemplo de ejecución**\n",
    "    > A = np.array([[1,2,3],[3,4,5]])\n",
    "    > means_stds(A)\n",
    "    \n",
    "    (array([ 2.,  3.,  4.]), array([ 1.,  1.,  1.]))\n",
    "    \n",
    "    > means_stds(A, eje=\"filas\")\n",
    "    (array([ 2.,  4.]), array([ 0.81649658,  0.81649658]))\n",
    "\n",
    "    > V = np.array([1,2,3])\n",
    "    > means_stds(V)\n",
    "    \n",
    "    [None, None]\n",
    "\n",
    "    > M = np.random.random((2,2,2))\n",
    "    > means_stds(M)\n",
    "    \n",
    "    [None, None]\n",
    "\n",
    "<small><small>\n",
    "el operador de comparación es `==`, por ejemplo:\n",
    "\n",
    "    if a==1:\n",
    "       print \"a es 1\"\n",
    "\n",
    "</small></small>"
   ]
  },
  {
   "cell_type": "code",
   "execution_count": 32,
   "metadata": {
    "collapsed": true
   },
   "outputs": [],
   "source": [
    "import numpy as np\n",
    "\n",
    "def means_stds(A, eje=\"columnas\"):\n",
    "    if (eje == \"columnas\" and len(A.shape)==2):\n",
    "        return (np.mean(A,axis=0),np.std(A,axis=0))\n",
    "    elif(eje == \"filas\" and len(A.shape)==2):\n",
    "        return (np.mean(A,axis=1),np.std(A,axis=1))\n",
    "\n",
    "    result = [None, None]\n",
    "    return result"
   ]
  },
  {
   "cell_type": "code",
   "execution_count": 33,
   "metadata": {},
   "outputs": [
    {
     "name": "stdout",
     "output_type": "stream",
     "text": [
      "(array([ 2.,  3.,  4.]), array([ 1.,  1.,  1.]))\n",
      "(array([ 2.,  3.,  4.]), array([ 1.,  1.,  1.]))\n",
      "(array([ 2.,  4.]), array([ 0.81649658,  0.81649658]))\n",
      "[None, None]\n",
      "[None, None]\n"
     ]
    }
   ],
   "source": [
    "## VERIFICA TU CODIGO\n",
    "A = np.array([[1,2,3],[3,4,5]])\n",
    "print (means_stds(A))\n",
    "print (means_stds(A, eje=\"columnas\"))\n",
    "print (means_stds(A, eje=\"filas\"))\n",
    "\n",
    "V = np.array([1,2,3])\n",
    "print (means_stds(V))\n",
    "\n",
    "M = np.random.random((2,2,2))\n",
    "print (means_stds(M))"
   ]
  },
  {
   "cell_type": "markdown",
   "metadata": {},
   "source": [
    "---\n",
    "\n",
    "**Obtén la calificación de esta práctica**"
   ]
  },
  {
   "cell_type": "code",
   "execution_count": 1,
   "metadata": {},
   "outputs": [
    {
     "ename": "SyntaxError",
     "evalue": "Missing parentheses in call to 'print'. Did you mean print(\"---\")? (p_01_eval.py, line 63)",
     "output_type": "error",
     "traceback": [
      "\u001b[1;36m  File \u001b[1;32m\"C:\\Users\\Juan Pulido\\My Jupyter Notebooks\\20152.ai.uis-master\\code\\p_01_eval.py\"\u001b[1;36m, line \u001b[1;32m63\u001b[0m\n\u001b[1;33m    print \"---\"\u001b[0m\n\u001b[1;37m              ^\u001b[0m\n\u001b[1;31mSyntaxError\u001b[0m\u001b[1;31m:\u001b[0m Missing parentheses in call to 'print'. Did you mean print(\"---\")?\n"
     ]
    }
   ],
   "source": [
    "%run -i code/p_01_eval"
   ]
  },
  {
   "cell_type": "code",
   "execution_count": null,
   "metadata": {
    "collapsed": true
   },
   "outputs": [],
   "source": []
  }
 ],
 "metadata": {
  "kernelspec": {
   "display_name": "Python 3",
   "language": "python",
   "name": "python3"
  },
  "language_info": {
   "codemirror_mode": {
    "name": "ipython",
    "version": 3
   },
   "file_extension": ".py",
   "mimetype": "text/x-python",
   "name": "python",
   "nbconvert_exporter": "python",
   "pygments_lexer": "ipython3",
   "version": "3.6.3"
  },
  "widgets": {
   "application/vnd.jupyter.widget-state+json": {
    "state": {},
    "version_major": 2,
    "version_minor": 0
   }
  }
 },
 "nbformat": 4,
 "nbformat_minor": 1
}
