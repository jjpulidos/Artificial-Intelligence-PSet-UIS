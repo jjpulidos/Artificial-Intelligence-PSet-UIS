{
 "cells": [
  {
   "cell_type": "markdown",
   "metadata": {},
   "source": [
    "### Instala primero la libreria de redes neuronales \n",
    "\n",
    "puedes ver información de la misma [aquí](https://pythonhosted.org/neurolab/)"
   ]
  },
  {
   "cell_type": "code",
   "execution_count": 4,
   "metadata": {},
   "outputs": [
    {
     "name": "stdout",
     "output_type": "stream",
     "text": [
      "\u001b[33mThe directory '/Users/rlx/Library/Caches/pip/http' or its parent directory is not owned by the current user and the cache has been disabled. Please check the permissions and owner of that directory. If executing pip with sudo, you may want sudo's -H flag.\u001b[0m\n",
      "\u001b[33mYou are using pip version 7.0.3, however version 7.1.2 is available.\n",
      "You should consider upgrading via the 'pip install --upgrade pip' command.\u001b[0m\n",
      "\u001b[33mThe directory '/Users/rlx/Library/Caches/pip/http' or its parent directory is not owned by the current user and the cache has been disabled. Please check the permissions and owner of that directory. If executing pip with sudo, you may want sudo's -H flag.\u001b[0m\n",
      "Requirement already satisfied (use --upgrade to upgrade): neurolab in /opt/anaconda/lib/python2.7/site-packages\n"
     ]
    }
   ],
   "source": [
    "!sudo /opt/anaconda/bin/pip install neurolab"
   ]
  },
  {
   "cell_type": "code",
   "execution_count": 2,
   "metadata": {
    "collapsed": true
   },
   "outputs": [],
   "source": [
    "import numpy as np\n",
    "import matplotlib.pyplot as plt\n",
    "%matplotlib inline"
   ]
  },
  {
   "cell_type": "markdown",
   "metadata": {},
   "source": [
    "### Usamos el **wine quality** dataset del repositorio de datasets de la UCI [enlace](http://archive.ics.uci.edu/ml/datasets/Wine+Quality)\n",
    "\n",
    "convertimos un problema multiclase en un problema de clasificación binaria"
   ]
  },
  {
   "cell_type": "code",
   "execution_count": 3,
   "metadata": {},
   "outputs": [
    {
     "name": "stdout",
     "output_type": "stream",
     "text": [
      "(4898, 12)\n",
      "(4898, 11)\n",
      "(4898,)\n",
      "quality 3.0 n= 20\n",
      "quality 4.0 n= 163\n",
      "quality 5.0 n= 1457\n",
      "quality 6.0 n= 2198\n",
      "quality 7.0 n= 880\n",
      "quality 8.0 n= 175\n",
      "quality 9.0 n= 5\n",
      "--\n",
      "quality -1.0 n= 1640\n",
      "quality 1.0 n= 3258\n",
      "--\n",
      "[6.85478767e+00 2.78241119e-01 3.34191507e-01 6.39141486e+00\n",
      " 4.57723561e-02 3.53080849e+01 1.38360657e+02 9.94027376e-01\n",
      " 3.18826664e+00 4.89846876e-01 1.05142670e+01]\n",
      "[8.43782079e-01 1.00784259e-01 1.21007450e-01 5.07153999e+00\n",
      " 2.18457377e-02 1.70054011e+01 4.24937260e+01 2.99060158e-03\n",
      " 1.50985184e-01 1.14114183e-01 1.23049494e+00]\n",
      "min datos [3.8000e+00 8.0000e-02 0.0000e+00 6.0000e-01 9.0000e-03 2.0000e+00\n",
      " 9.0000e+00 9.8711e-01 2.7200e+00 2.2000e-01 8.0000e+00]\n",
      "max datos [1.42000e+01 1.10000e+00 1.66000e+00 6.58000e+01 3.46000e-01 2.89000e+02\n",
      " 4.40000e+02 1.03898e+00 3.82000e+00 1.08000e+00 1.42000e+01]\n",
      "--\n",
      "min max datos columns\n",
      "[0. 0. 0. 0. 0. 0. 0. 0. 0. 0. 0.] [1. 1. 1. 1. 1. 1. 1. 1. 1. 1. 1.]\n"
     ]
    }
   ],
   "source": [
    "wine = np.loadtxt(\"data/winequality-white.csv\", delimiter=\";\", skiprows=1)\n",
    "datos = wine[:,:11]\n",
    "calidad = wine[:,11]\n",
    "print (wine.shape)\n",
    "print (datos.shape)\n",
    "print (calidad.shape)\n",
    "\n",
    "for i in np.unique(calidad):\n",
    "    print (\"quality\", i, \"n=\", np.sum(calidad==i))\n",
    "\n",
    "calidad[calidad<=5]=-1\n",
    "calidad[calidad>5]=1\n",
    "print (\"--\")\n",
    "for i in np.unique(calidad):\n",
    "    print (\"quality\", i, \"n=\", np.sum(calidad==i))\n",
    "    \n",
    "print (\"--\")\n",
    "print (np.mean(datos, axis=0) )   \n",
    "print (np.std(datos, axis=0)  )  \n",
    "print (\"min datos\", np.min(datos, axis=0))\n",
    "print (\"max datos\", np.max(datos, axis=0))\n",
    "    \n",
    "from sklearn.preprocessing import scale, MinMaxScaler \n",
    "print (\"--\")\n",
    "datos = MinMaxScaler().fit_transform(datos)\n",
    "print (\"min max datos columns\")\n",
    "print (np.min(datos, axis=0), np.max(datos, axis=0))"
   ]
  },
  {
   "cell_type": "markdown",
   "metadata": {},
   "source": [
    "### Definimos y entrenamos una red con dos capas intermedias y una neurona de salida"
   ]
  },
  {
   "cell_type": "code",
   "execution_count": 4,
   "metadata": {
    "scrolled": false
   },
   "outputs": [
    {
     "name": "stdout",
     "output_type": "stream",
     "text": [
      "Epoch: 5; Error: 830.0195282063216;\n",
      "Epoch: 10; Error: 733.1268115824062;\n",
      "Epoch: 15; Error: 654.1400823341983;\n",
      "Epoch: 20; Error: 631.3176447632375;\n",
      "Epoch: 25; Error: 620.8545167326796;\n",
      "Epoch: 30; Error: 607.0599510641005;\n",
      "Epoch: 35; Error: 592.987314358225;\n",
      "Epoch: 40; Error: 577.7165857045186;\n",
      "Epoch: 45; Error: 565.3092940158978;\n",
      "Epoch: 50; Error: 555.9210315684848;\n",
      "Epoch: 55; Error: 550.0143794187281;\n",
      "Epoch: 60; Error: 546.7000432933794;\n",
      "Epoch: 65; Error: 544.0752907226412;\n",
      "Epoch: 70; Error: 541.8185505625432;\n",
      "Epoch: 75; Error: 539.776338036775;\n",
      "Epoch: 80; Error: 536.4775111770871;\n",
      "Epoch: 85; Error: 533.1758104644387;\n",
      "Epoch: 90; Error: 531.0217255945538;\n",
      "Epoch: 95; Error: 530.2103366064925;\n",
      "Epoch: 100; Error: 529.2577056389696;\n",
      "The maximum number of train epochs is reached\n"
     ]
    }
   ],
   "source": [
    "from sklearn import cross_validation\n",
    "import neurolab as nl\n",
    "\n",
    "limits = np.vstack((np.min(datos)*np.ones(datos.shape[1]), np.max(datos)*np.ones(datos.shape[1]))).T\n",
    "test_size = 0.6\n",
    "\n",
    "datos_train, datos_test, calidad_train, calidad_test = cross_validation.train_test_split(datos, \n",
    "                                                                     calidad, \n",
    "                                                                     test_size=test_size, \n",
    "                                                                     random_state=np.random.randint(1,100))\n",
    "net = nl.net.newff(limits,[10, 1])\n",
    "err = net.train(datos_train, calidad_train.reshape(len(calidad_train), 1), show=5, epochs=100)"
   ]
  },
  {
   "cell_type": "code",
   "execution_count": 12,
   "metadata": {},
   "outputs": [
    {
     "data": {
      "text/plain": [
       "Text(0,0.5,'error (default SSE)')"
      ]
     },
     "execution_count": 12,
     "metadata": {},
     "output_type": "execute_result"
    },
    {
     "data": {
      "image/png": "[encoded data removed]",
      "text/plain": [
       "<matplotlib.figure.Figure at 0x2256acd1240>"
      ]
     },
     "metadata": {},
     "output_type": "display_data"
    }
   ],
   "source": [
    "plt.plot(err)\n",
    "plt.xlabel('Epoch number')\n",
    "plt.ylabel('error (default SSE)')"
   ]
  },
  {
   "cell_type": "markdown",
   "metadata": {},
   "source": [
    "### miramos el desempeño en el dataset de TEST"
   ]
  },
  {
   "cell_type": "code",
   "execution_count": 28,
   "metadata": {},
   "outputs": [
    {
     "name": "stdout",
     "output_type": "stream",
     "text": [
      "[[ 572  433]\n",
      " [ 282 1652]]\n",
      "0.75671997278\n"
     ]
    }
   ],
   "source": [
    "from sklearn.metrics import confusion_matrix\n",
    "\n",
    "pred = net.sim(datos_test)[:,0]\n",
    "pred[pred<0]=-1\n",
    "pred[pred>0]=1\n",
    "\n",
    "cm = confusion_matrix(calidad_test, pred)\n",
    "print (cm)\n",
    "print (np.sum(np.diag(cm))*1./np.sum(cm))"
   ]
  },
  {
   "cell_type": "markdown",
   "metadata": {},
   "source": [
    "### miramos el desempeño en el dataset de TRAIN"
   ]
  },
  {
   "cell_type": "code",
   "execution_count": 14,
   "metadata": {},
   "outputs": [
    {
     "name": "stdout",
     "output_type": "stream",
     "text": [
      "[[ 456  204]\n",
      " [ 196 1103]]\n",
      "0.795814190914\n"
     ]
    }
   ],
   "source": [
    "pred =  net.sim(datos_train)[:,0]\n",
    "pred[pred<0]=-1\n",
    "pred[pred>0]=1\n",
    "\n",
    "cm = confusion_matrix(calidad_train, pred)\n",
    "print (cm)\n",
    "print (np.sum(np.diag(cm))*1./np.sum(cm))"
   ]
  },
  {
   "cell_type": "code",
   "execution_count": 33,
   "metadata": {},
   "outputs": [
    {
     "name": "stdout",
     "output_type": "stream",
     "text": [
      "acierto en test  0.69751616196\n",
      "[[ 541  464]\n",
      " [ 425 1509]]\n"
     ]
    }
   ],
   "source": [
    "from sklearn.naive_bayes import GaussianNB\n",
    "g = GaussianNB()\n",
    "g.fit(datos_train, calidad_train)\n",
    "predicciones_test  = g.predict(datos_test)\n",
    "cm=confusion_matrix(calidad_test, predicciones_test)\n",
    "print (\"acierto en test \", g.score(datos_test, calidad_test))\n",
    "print (cm)"
   ]
  },
  {
   "cell_type": "code",
   "execution_count": null,
   "metadata": {
    "collapsed": true
   },
   "outputs": [],
   "source": []
  }
 ],
 "metadata": {
  "kernelspec": {
   "display_name": "Python 3",
   "language": "python",
   "name": "python3"
  },
  "language_info": {
   "codemirror_mode": {
    "name": "ipython",
    "version": 3
   },
   "file_extension": ".py",
   "mimetype": "text/x-python",
   "name": "python",
   "nbconvert_exporter": "python",
   "pygments_lexer": "ipython3",
   "version": "3.6.3"
  },
  "widgets": {
   "application/vnd.jupyter.widget-state+json": {
    "state": {},
    "version_major": 2,
    "version_minor": 0
   }
  }
 },
 "nbformat": 4,
 "nbformat_minor": 1
}
