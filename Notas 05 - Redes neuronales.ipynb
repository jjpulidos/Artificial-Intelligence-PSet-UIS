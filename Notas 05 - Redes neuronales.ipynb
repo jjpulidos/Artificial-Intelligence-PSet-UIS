{
 "cells": [
  {
   "cell_type": "markdown",
   "metadata": {},
   "source": [
    "### Instala primero la libreria de redes neuronales \n",
    "\n",
    "puedes ver información de la misma [aquí](https://pythonhosted.org/neurolab/)"
   ]
  },
  {
   "cell_type": "code",
   "execution_count": 4,
   "metadata": {
    "collapsed": false
   },
   "outputs": [
    {
     "name": "stdout",
     "output_type": "stream",
     "text": [
      "\u001b[33mThe directory '/Users/rlx/Library/Caches/pip/http' or its parent directory is not owned by the current user and the cache has been disabled. Please check the permissions and owner of that directory. If executing pip with sudo, you may want sudo's -H flag.\u001b[0m\n",
      "\u001b[33mYou are using pip version 7.0.3, however version 7.1.2 is available.\n",
      "You should consider upgrading via the 'pip install --upgrade pip' command.\u001b[0m\n",
      "\u001b[33mThe directory '/Users/rlx/Library/Caches/pip/http' or its parent directory is not owned by the current user and the cache has been disabled. Please check the permissions and owner of that directory. If executing pip with sudo, you may want sudo's -H flag.\u001b[0m\n",
      "Requirement already satisfied (use --upgrade to upgrade): neurolab in /opt/anaconda/lib/python2.7/site-packages\n"
     ]
    }
   ],
   "source": [
    "!sudo /opt/anaconda/bin/pip install neurolab"
   ]
  },
  {
   "cell_type": "code",
   "execution_count": 5,
   "metadata": {
    "collapsed": true
   },
   "outputs": [],
   "source": [
    "import numpy as np\n",
    "import matplotlib.pyplot as plt\n",
    "%matplotlib inline"
   ]
  },
  {
   "cell_type": "markdown",
   "metadata": {},
   "source": [
    "### Usamos el **wine quality** dataset del repositorio de datasets de la UCI [enlace](http://archive.ics.uci.edu/ml/datasets/Wine+Quality)\n",
    "\n",
    "convertimos un problema multiclase en un problema de clasificación binaria"
   ]
  },
  {
   "cell_type": "code",
   "execution_count": 19,
   "metadata": {
    "collapsed": false
   },
   "outputs": [
    {
     "name": "stdout",
     "output_type": "stream",
     "text": [
      "(4898, 11)\n",
      "quality 3.0 n= 20\n",
      "quality 4.0 n= 163\n",
      "quality 5.0 n= 1457\n",
      "quality 6.0 n= 2198\n",
      "quality 7.0 n= 880\n",
      "quality 8.0 n= 175\n",
      "quality 9.0 n= 5\n",
      "--\n",
      "quality -1.0 n= 1640\n",
      "quality 1.0 n= 3258\n",
      "--\n",
      "[  6.85478767e+00   2.78241119e-01   3.34191507e-01   6.39141486e+00\n",
      "   4.57723561e-02   3.53080849e+01   1.38360657e+02   9.94027376e-01\n",
      "   3.18826664e+00   4.89846876e-01   1.05142670e+01]\n",
      "[  8.43782079e-01   1.00784259e-01   1.21007450e-01   5.07153999e+00\n",
      "   2.18457377e-02   1.70054011e+01   4.24937260e+01   2.99060158e-03\n",
      "   1.50985184e-01   1.14114183e-01   1.23049494e+00]\n",
      "min d [  3.80000000e+00   8.00000000e-02   0.00000000e+00   6.00000000e-01\n",
      "   9.00000000e-03   2.00000000e+00   9.00000000e+00   9.87110000e-01\n",
      "   2.72000000e+00   2.20000000e-01   8.00000000e+00]\n",
      "max d [  1.42000000e+01   1.10000000e+00   1.66000000e+00   6.58000000e+01\n",
      "   3.46000000e-01   2.89000000e+02   4.40000000e+02   1.03898000e+00\n",
      "   3.82000000e+00   1.08000000e+00   1.42000000e+01]\n",
      "--\n",
      "min max d columns\n",
      "[ 0.  0.  0.  0.  0.  0.  0.  0.  0.  0.  0.] [ 1.  1.  1.  1.  1.  1.  1.  1.  1.  1.  1.]\n"
     ]
    }
   ],
   "source": [
    "wine = np.loadtxt(\"data/winequality-white.csv\", delimiter=\";\", skiprows=1)\n",
    "d = wine[:,:11]\n",
    "c = wine[:,11]\n",
    "print d.shape\n",
    "for i in np.unique(c):\n",
    "    print \"quality\", i, \"n=\", np.sum(c==i)\n",
    "\n",
    "c[c<=5]=-1\n",
    "c[c>5]=1\n",
    "print \"--\"\n",
    "for i in np.unique(c):\n",
    "    print \"quality\", i, \"n=\", np.sum(c==i)\n",
    "    \n",
    "print \"--\"\n",
    "print np.mean(d, axis=0)    \n",
    "print np.std(d, axis=0)    \n",
    "print \"min d\", np.min(d, axis=0)\n",
    "print \"max d\", np.max(d, axis=0)\n",
    "    \n",
    "from sklearn.preprocessing import scale, MinMaxScaler \n",
    "d = MinMaxScaler().fit_transform(d)\n",
    "print \"--\"\n",
    "print \"min max d columns\"\n",
    "print np.min(d, axis=0), np.max(d, axis=0)"
   ]
  },
  {
   "cell_type": "markdown",
   "metadata": {},
   "source": [
    "### Definimos y entrenamos una red con dos capas intermedias y una neurona de salida"
   ]
  },
  {
   "cell_type": "code",
   "execution_count": 26,
   "metadata": {
    "collapsed": false,
    "scrolled": false
   },
   "outputs": [
    {
     "name": "stdout",
     "output_type": "stream",
     "text": [
      "Epoch: 5; Error: 672.851365176;\n",
      "Epoch: 10; Error: 655.968496704;\n",
      "Epoch: 15; Error: 641.734529034;\n",
      "Epoch: 20; Error: 621.99144412;\n",
      "Epoch: 25; Error: 603.440704659;\n",
      "Epoch: 30; Error: 591.72646492;\n",
      "Epoch: 35; Error: 586.057567304;\n",
      "Epoch: 40; Error: 580.770699601;\n",
      "Epoch: 45; Error: 573.719028366;\n",
      "Epoch: 50; Error: 566.267529342;\n",
      "Epoch: 55; Error: 558.147070252;\n",
      "Epoch: 60; Error: 550.774138661;\n",
      "Epoch: 65; Error: 542.656756927;\n",
      "Epoch: 70; Error: 532.863140811;\n",
      "Epoch: 75; Error: 523.645794627;\n",
      "Epoch: 80; Error: 517.75634781;\n",
      "Epoch: 85; Error: 514.531284696;\n",
      "Epoch: 90; Error: 511.764800447;\n",
      "Epoch: 95; Error: 508.771448053;\n",
      "Epoch: 100; Error: 504.608189562;\n",
      "The maximum number of train epochs is reached\n"
     ]
    }
   ],
   "source": [
    "from sklearn import cross_validation\n",
    "import neurolab as nl\n",
    "\n",
    "limits = np.vstack((np.min(d)*np.ones(d.shape[1]), np.max(d)*np.ones(d.shape[1]))).T\n",
    "test_size = 0.6\n",
    "\n",
    "d_train, d_test, c_train, c_test = cross_validation.train_test_split(d, \n",
    "                                                                     c, \n",
    "                                                                     test_size=test_size, \n",
    "                                                                     random_state=np.random.randint(1,100))\n",
    "\n",
    "net = nl.net.newff(limits,[10, 1])\n",
    "err = net.train(d_train, c_train.reshape(len(c_train), 1), show=5, epochs=100)"
   ]
  },
  {
   "cell_type": "code",
   "execution_count": 27,
   "metadata": {
    "collapsed": false
   },
   "outputs": [
    {
     "data": {
      "text/plain": [
       "<matplotlib.text.Text at 0x108893090>"
      ]
     },
     "execution_count": 27,
     "metadata": {},
     "output_type": "execute_result"
    },
    {
     "data": {
      "image/png": "[encoded data removed]",
      "text/plain": [
       "<matplotlib.figure.Figure at 0x107d81550>"
      ]
     },
     "metadata": {},
     "output_type": "display_data"
    }
   ],
   "source": [
    "plt.plot(err)\n",
    "plt.xlabel('Epoch number')\n",
    "plt.ylabel('error (default SSE)')"
   ]
  },
  {
   "cell_type": "markdown",
   "metadata": {},
   "source": [
    "### miramos el desempeño en el dataset de TEST"
   ]
  },
  {
   "cell_type": "code",
   "execution_count": 28,
   "metadata": {
    "collapsed": false
   },
   "outputs": [
    {
     "name": "stdout",
     "output_type": "stream",
     "text": [
      "[[ 572  433]\n",
      " [ 282 1652]]\n",
      "0.75671997278\n"
     ]
    }
   ],
   "source": [
    "from sklearn.metrics import confusion_matrix\n",
    "\n",
    "pred =  net.sim(d_test)[:,0]\n",
    "pred[pred<0]=-1\n",
    "pred[pred>0]=1\n",
    "\n",
    "cm = confusion_matrix(c_test, pred)\n",
    "print cm\n",
    "print np.sum(np.diag(cm))*1./np.sum(cm)"
   ]
  },
  {
   "cell_type": "markdown",
   "metadata": {},
   "source": [
    "### miramos el desempeño en el dataset de TRAIN"
   ]
  },
  {
   "cell_type": "code",
   "execution_count": 14,
   "metadata": {
    "collapsed": false
   },
   "outputs": [
    {
     "name": "stdout",
     "output_type": "stream",
     "text": [
      "[[ 456  204]\n",
      " [ 196 1103]]\n",
      "0.795814190914\n"
     ]
    }
   ],
   "source": [
    "pred =  net.sim(d_train)[:,0]\n",
    "pred[pred<0]=-1\n",
    "pred[pred>0]=1\n",
    "\n",
    "cm = confusion_matrix(c_train, pred)\n",
    "print cm\n",
    "print np.sum(np.diag(cm))*1./np.sum(cm)"
   ]
  },
  {
   "cell_type": "code",
   "execution_count": 33,
   "metadata": {
    "collapsed": false
   },
   "outputs": [
    {
     "name": "stdout",
     "output_type": "stream",
     "text": [
      "acierto en test  0.69751616196\n",
      "[[ 541  464]\n",
      " [ 425 1509]]\n"
     ]
    }
   ],
   "source": [
    "from sklearn.naive_bayes import GaussianNB\n",
    "\n",
    "g = GaussianNB()\n",
    "g.fit(d_train, c_train)\n",
    "predicciones_test  = g.predict(d_test)\n",
    "cm=confusion_matrix(c_test, predicciones_test)\n",
    "print \"acierto en test \", g.score(d_test, c_test)\n",
    "print cm"
   ]
  },
  {
   "cell_type": "code",
   "execution_count": null,
   "metadata": {
    "collapsed": true
   },
   "outputs": [],
   "source": []
  }
 ],
 "metadata": {
  "kernelspec": {
   "display_name": "Python 2",
   "language": "python",
   "name": "python2"
  },
  "language_info": {
   "codemirror_mode": {
    "name": "ipython",
    "version": 2
   },
   "file_extension": ".py",
   "mimetype": "text/x-python",
   "name": "python",
   "nbconvert_exporter": "python",
   "pygments_lexer": "ipython2",
   "version": "2.7.10"
  }
 },
 "nbformat": 4,
 "nbformat_minor": 0
}
