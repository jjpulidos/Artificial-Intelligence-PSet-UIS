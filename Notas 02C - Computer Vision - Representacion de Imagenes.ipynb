{
 "cells": [
  {
   "cell_type": "code",
   "execution_count": 1,
   "metadata": {
    "collapsed": true
   },
   "outputs": [],
   "source": [
    "import numpy as np\n",
    "import matplotlib.pyplot as plt\n",
    "%matplotlib inline"
   ]
  },
  {
   "cell_type": "markdown",
   "metadata": {},
   "source": [
    "## Representación de Imágenes"
   ]
  },
  {
   "cell_type": "code",
   "execution_count": 2,
   "metadata": {},
   "outputs": [
    {
     "name": "stdout",
     "output_type": "stream",
     "text": [
      "dimension de las imagenes y las clases (1500, 784) (1500,)\n"
     ]
    }
   ],
   "source": [
    "mnist = np.loadtxt(\"data/mnist1.5k.csv\", delimiter=\",\")\n",
    "d=mnist[:,1:785]\n",
    "c=mnist[:,0]\n",
    "print (\"dimension de las imagenes y las clases\", d.shape, c.shape)"
   ]
  },
  {
   "cell_type": "markdown",
   "metadata": {},
   "source": [
    "Representamos una imagen por el histograma de grises. Es decir, por un vector de 255 valores conteniendo cuantos píxeles contiene la imagen de cada intensidad."
   ]
  },
  {
   "cell_type": "code",
   "execution_count": 3,
   "metadata": {},
   "outputs": [
    {
     "name": "stdout",
     "output_type": "stream",
     "text": [
      "[620   2   1   1   0   0   2   0   1   1   2   0   4   0   1   0   0   0\n",
      "   0   2   1   0   0   0   1   1   1   0   0   0   0   0   1   1   1   0\n",
      "   0   0   0   0   1   1   0   0   1   0   0   0   0   0   0   0   0   0\n",
      "   0   0   1   1   1   0   0   0   0   1   0   0   0   0   1   0   0   0\n",
      "   0   0   0   0   0   0   0   0   0   0   0   1   0   0   0   0   1   1\n",
      "   0   0   0   0   2   0   0   0   0   0   0   0   0   0   0   0   1   0\n",
      "   0   0   4   0   1   1   0   0   0   1   0   1   1   0   0   0   0   1\n",
      "   2   0   0   1   0   0   0   0   0   1   0   0   0   3   0   0   0   1\n",
      "   0   1   1   0   0   1   0   0   0   0   0   0   0   1   0   1   0   0\n",
      "   0   0   1   0   1   1   0   1   1   0   0   1   0   0   0   0   0   2\n",
      "   2   1   0   0   1   0   1   0   0   2   0   1   0   0   1   0   0   0\n",
      "   0   1   1   0   0   1   0   0   1   0   0   0   4   1   1   0   0   0\n",
      "   1   0   0   0   0   0   0   0   1   0   0   1   0   0   1   0   1   0\n",
      "   0   0   0   1   1   0   1   0   0   0   1   0   0   0   1   0   0   0\n",
      "   0   0  66]\n",
      "[   0.    0.    0.    0.    0.    0.    0.    0.    0.    0.    0.    0.\n",
      "    0.    0.    0.    0.    0.    0.    0.    0.    0.    0.    0.    0.\n",
      "    0.    0.    0.    0.    0.    0.    0.    0.    0.    0.    0.    0.\n",
      "    0.    0.    0.    0.    0.    0.    0.    0.    0.    0.    0.    0.\n",
      "    0.    0.    0.    0.    0.    0.    0.    0.    0.    0.    0.    0.\n",
      "    0.    0.    0.    0.    0.    0.    0.    0.    0.    0.    0.    0.\n",
      "    0.    0.    0.    0.    0.    0.    0.    0.    0.    0.    0.    0.\n",
      "    0.    0.    0.    0.    0.    0.    0.    0.    0.    0.    0.    0.\n",
      "    0.    0.    0.    0.    0.    0.    0.    0.    0.    0.    0.    0.\n",
      "    0.    0.    0.    0.    0.    0.    0.    0.    0.    0.    0.    0.\n",
      "    0.    0.    0.    0.    0.    0.    0.    0.    0.    0.    0.    0.\n",
      "    0.    0.    0.    0.    0.    0.    0.    0.    0.    0.    0.    0.\n",
      "    0.    0.    0.    0.    0.    0.    0.    0.    0.    0.    0.    0.\n",
      "    0.    0.    0.    0.    0.    0.    0.    0.    0.    0.    0.    0.\n",
      "    0.    0.    0.    0.    0.    0.    0.    0.    0.    0.    0.    0.\n",
      "    2.  164.  113.  191.  210.  210.  210.  200.  181.  210.  135.    8.\n",
      "    0.    0.    0.    0.    0.    0.    0.    0.    0.    0.    0.    0.\n",
      "    0.    0.    0.    0.   41.  254.  254.  254.  254.  254.  254.  254.\n",
      "  254.  254.  254.  186.   40.    0.    0.    0.    0.    0.    0.    0.\n",
      "    0.    0.    0.    0.    0.    0.    0.    0.   88.  254.  254.  254.\n",
      "  254.  254.  254.  254.  254.  254.  254.  254.  146.    0.    0.    0.\n",
      "    0.    0.    0.    0.    0.    0.    0.    0.    0.    0.    0.    0.\n",
      "  170.  254.  254.  254.  237.  179.  179.  216.  254.  254.  254.  254.\n",
      "   94.    0.    0.    0.    0.    0.    0.    0.    0.    0.    0.    0.\n",
      "    0.    0.    0.   44.  203.  248.  254.  189.   56.    0.    0.   12.\n",
      "   25.  117.  125.   68.    6.    0.    0.    0.    0.    0.    0.    0.\n",
      "    0.    0.    0.    0.    0.    0.    0.  119.  244.  199.  238.   33.\n",
      "    0.    0.    0.    0.    0.    0.    0.    0.    0.    0.    0.    0.\n",
      "    0.    0.    0.    0.    0.    0.    0.    0.    0.    0.   12.  173.\n",
      "  254.  254.  169.   20.    0.    0.    0.    0.    0.    0.    0.    0.\n",
      "    0.    0.    0.    0.    0.    0.    0.    0.    0.    0.    0.    0.\n",
      "    0.    0.   12.  211.  254.  254.  143.    0.    0.    0.    0.    0.\n",
      "    0.    0.    0.    0.    0.    0.    0.    0.    0.    0.    0.    0.\n",
      "    0.    0.    0.    0.    0.    0.   19.  227.  254.  254.  232.  110.\n",
      "   19.    0.    0.    0.    0.    0.    0.    0.    0.    0.    0.    0.\n",
      "    0.    0.    0.    0.    0.    0.    0.    0.    0.    0.    6.  157.\n",
      "  254.  254.  254.  254.  224.   34.    0.    0.    0.    0.    0.    0.\n",
      "    0.    0.    0.    0.    0.    0.    0.    0.    0.    0.    0.    0.\n",
      "    0.    0.    0.   32.  149.  194.  230.  254.  254.  139.    0.    0.\n",
      "    0.    0.    0.    0.    0.    0.    0.    0.    0.    0.    0.    0.\n",
      "    0.    0.    0.    0.    0.    0.    0.    0.    0.    0.   24.  167.\n",
      "  254.  139.    0.    0.    0.    0.    0.    0.    0.    0.    0.    0.\n",
      "    0.    0.    0.    0.    0.    0.    0.    0.    0.    0.    0.    0.\n",
      "    0.    0.    0.  106.  254.  139.    0.    0.    0.    0.    0.    0.\n",
      "    0.    0.    0.    0.    0.    0.    0.    0.    0.  126.   83.    9.\n",
      "    0.    0.    3.   26.  120.  126.  145.  159.  254.  129.    0.    0.\n",
      "    0.    0.    0.    0.    0.    0.    0.    0.    0.    0.    0.    0.\n",
      "    0.  184.  254.  206.  180.  180.  189.  254.  254.  254.  254.  254.\n",
      "  212.   12.    0.    0.    0.    0.    0.    0.    0.    0.    0.    0.\n",
      "    0.    0.    0.    0.    0.   63.  254.  254.  255.  254.  254.  254.\n",
      "  254.  254.  254.  240.   89.    0.    0.    0.    0.    0.    0.    0.\n",
      "    0.    0.    0.    0.    0.    0.    0.    0.    0.   14.  112.  254.\n",
      "  254.  254.  254.  254.  254.  254.  166.   58.    0.    0.    0.    0.\n",
      "    0.    0.    0.    0.    0.    0.    0.    0.    0.    0.    0.    0.\n",
      "    0.    0.    1.   10.   57.  110.  110.  110.   94.   10.    1.    0.\n",
      "    0.    0.    0.    0.    0.    0.    0.    0.    0.    0.    0.    0.\n",
      "    0.    0.    0.    0.    0.    0.    0.    0.    0.    0.    0.    0.\n",
      "    0.    0.    0.    0.    0.    0.    0.    0.    0.    0.    0.    0.\n",
      "    0.    0.    0.    0.    0.    0.    0.    0.    0.    0.    0.    0.\n",
      "    0.    0.    0.    0.    0.    0.    0.    0.    0.    0.    0.    0.\n",
      "    0.    0.    0.    0.    0.    0.    0.    0.    0.    0.    0.    0.\n",
      "    0.    0.    0.    0.    0.    0.    0.    0.    0.    0.    0.    0.\n",
      "    0.    0.    0.    0.    0.    0.    0.    0.    0.    0.    0.    0.\n",
      "    0.    0.    0.    0.    0.    0.    0.    0.    0.    0.    0.    0.\n",
      "    0.    0.    0.    0.    0.    0.    0.    0.    0.    0.    0.    0.\n",
      "    0.    0.    0.    0.]\n"
     ]
    },
    {
     "data": {
      "image/png": "[encoded data removed]",
      "text/plain": [
       "<matplotlib.figure.Figure at 0x1b895deea90>"
      ]
     },
     "metadata": {},
     "output_type": "display_data"
    },
    {
     "data": {
      "image/png": "[encoded data removed]",
      "text/plain": [
       "<matplotlib.figure.Figure at 0x1b895dee9e8>"
      ]
     },
     "metadata": {},
     "output_type": "display_data"
    }
   ],
   "source": [
    "random_idx = np.random.randint(d.shape[0])\n",
    "print (np.histogram(d[random_idx], bins=255)[0])\n",
    "print (d[random_idx])\n",
    "plt.imshow(d[random_idx].reshape(28,28),interpolation=\"nearest\", cmap = plt.cm.Greys_r)\n",
    "plt.figure()\n",
    "plt.hist(d[random_idx], bins=255);"
   ]
  },
  {
   "cell_type": "markdown",
   "metadata": {},
   "source": [
    "Convertimos cada imagen a un histograma de grises"
   ]
  },
  {
   "cell_type": "code",
   "execution_count": 4,
   "metadata": {},
   "outputs": [
    {
     "name": "stdout",
     "output_type": "stream",
     "text": [
      "(1500, 255)\n"
     ]
    }
   ],
   "source": [
    "d_hist = np.zeros((d.shape[0], 255))\n",
    "for i in range(d.shape[0]):\n",
    "    d_hist[i] = np.histogram(d[i], bins=255)[0]\n",
    "print (d_hist.shape)"
   ]
  },
  {
   "cell_type": "markdown",
   "metadata": {},
   "source": [
    "Hacemos una descomposición en cien valores singulares. Se calcula cuales son las 100 métricas de cada imagen que son estadísticamente más significativas."
   ]
  },
  {
   "cell_type": "code",
   "execution_count": 5,
   "metadata": {},
   "outputs": [
    {
     "name": "stdout",
     "output_type": "stream",
     "text": [
      "(1500, 100)\n"
     ]
    }
   ],
   "source": [
    "import scipy.linalg as la\n",
    "\n",
    "(U,s,V)=la.svd(d)\n",
    "d_svd = U[:,0:100]# U es la Matriz Unitaria con vectores singulares en sus columnas  \n",
    "#con 100 métricas de cada imagen que son estadísticamente más significativas\n",
    "print (d_svd.shape)"
   ]
  },
  {
   "cell_type": "markdown",
   "metadata": {},
   "source": [
    "Clasificamos con los pixeles originales"
   ]
  },
  {
   "cell_type": "code",
   "execution_count": 7,
   "metadata": {},
   "outputs": [
    {
     "name": "stdout",
     "output_type": "stream",
     "text": [
      "acierto en train 0.664166666667\n",
      "acierto en test  0.583333333333\n"
     ]
    }
   ],
   "source": [
    "from sklearn.naive_bayes import GaussianNB\n",
    "from sklearn import cross_validation\n",
    "\n",
    "test_size = 0.2\n",
    "\n",
    "d_train, d_test, c_train, c_test = cross_validation.train_test_split(d, \n",
    "                                                                     c, \n",
    "                                                                     test_size=test_size, \n",
    "                                                                     random_state=np.random.randint(1,100))\n",
    "g = GaussianNB()\n",
    "g.fit(d_train, c_train)\n",
    "print (\"acierto en train\", g.score(d_train, c_train))\n",
    "print (\"acierto en test \", g.score(d_test, c_test))"
   ]
  },
  {
   "cell_type": "markdown",
   "metadata": {},
   "source": [
    "Clasificamos con el histograma. Funciona mucho peor, parece que perdemos demasiada información al representar las imágenes de esta manera."
   ]
  },
  {
   "cell_type": "code",
   "execution_count": 8,
   "metadata": {},
   "outputs": [
    {
     "name": "stdout",
     "output_type": "stream",
     "text": [
      "acierto en train 0.545833333333\n",
      "acierto en test  0.166666666667\n"
     ]
    }
   ],
   "source": [
    "d_train, d_test, c_train, c_test = cross_validation.train_test_split(d_hist, \n",
    "                                                                     c, \n",
    "                                                                     test_size=test_size, \n",
    "                                                                     random_state=np.random.randint(1,100))\n",
    "g = GaussianNB()\n",
    "g.fit(d_train, c_train)\n",
    "print (\"acierto en train\", g.score(d_train, c_train))\n",
    "print (\"acierto en test \", g.score(d_test, c_test))"
   ]
  },
  {
   "cell_type": "markdown",
   "metadata": {},
   "source": [
    "Clasificamos con la descomposición en valores singulares. Funciona mucho mejor, esta representación parece que preserva y resalta información importante de las imágenes. "
   ]
  },
  {
   "cell_type": "code",
   "execution_count": 9,
   "metadata": {},
   "outputs": [
    {
     "name": "stdout",
     "output_type": "stream",
     "text": [
      "acierto en train 0.901666666667\n",
      "acierto en test  0.846666666667\n"
     ]
    }
   ],
   "source": [
    "test_size = 0.2\n",
    "\n",
    "d_train, d_test, c_train, c_test = cross_validation.train_test_split(d_svd, \n",
    "                                                                     c, \n",
    "                                                                     test_size=test_size, \n",
    "                                                                     random_state=np.random.randint(1,100))\n",
    "g = GaussianNB()\n",
    "g.fit(d_train, c_train)\n",
    "print (\"acierto en train\", g.score(d_train, c_train))\n",
    "print (\"acierto en test \", g.score(d_test, c_test))"
   ]
  }
 ],
 "metadata": {
  "kernelspec": {
   "display_name": "Python 3",
   "language": "python",
   "name": "python3"
  },
  "language_info": {
   "codemirror_mode": {
    "name": "ipython",
    "version": 3
   },
   "file_extension": ".py",
   "mimetype": "text/x-python",
   "name": "python",
   "nbconvert_exporter": "python",
   "pygments_lexer": "ipython3",
   "version": "3.6.3"
  },
  "widgets": {
   "application/vnd.jupyter.widget-state+json": {
    "state": {},
    "version_major": 2,
    "version_minor": 0
   }
  }
 },
 "nbformat": 4,
 "nbformat_minor": 1
}
