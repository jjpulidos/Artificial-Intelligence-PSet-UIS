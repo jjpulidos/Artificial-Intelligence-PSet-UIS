{
 "cells": [
  {
   "cell_type": "markdown",
   "metadata": {},
   "source": [
    "### Selecciona un dataset del [repositorio de la UCI](http://archive.ics.uci.edu/ml/), define una tarea de clasificación binaria y realiza el mismo proceso que en las Notas correspondientes.\n",
    "\n",
    "### Prueba varias estructuras de redes y compara el desempeño en TEST con alguno de los métodos usados en las Notas 02B "
   ]
  },
  {
   "cell_type": "code",
   "execution_count": 33,
   "metadata": {
    "collapsed": true
   },
   "outputs": [],
   "source": [
    "import numpy as np\n",
    "import matplotlib.pyplot as plt\n",
    "%matplotlib inline"
   ]
  },
  {
   "cell_type": "code",
   "execution_count": 78,
   "metadata": {},
   "outputs": [
    {
     "name": "stdout",
     "output_type": "stream",
     "text": [
      "(699, 11)\n",
      "(699, 10) [[  1.00002500e+06   5.00000000e+00   1.00000000e+00 ...,   3.00000000e+00\n",
      "    1.00000000e+00   1.00000000e+00]\n",
      " [  1.00294500e+06   5.00000000e+00   4.00000000e+00 ...,   3.00000000e+00\n",
      "    2.00000000e+00   1.00000000e+00]\n",
      " [  1.01542500e+06   3.00000000e+00   1.00000000e+00 ...,   3.00000000e+00\n",
      "    1.00000000e+00   1.00000000e+00]\n",
      " ..., \n",
      " [  8.88820000e+05   5.00000000e+00   1.00000000e+01 ...,   8.00000000e+00\n",
      "    1.00000000e+01   2.00000000e+00]\n",
      " [  8.97471000e+05   4.00000000e+00   8.00000000e+00 ...,   1.00000000e+01\n",
      "    6.00000000e+00   1.00000000e+00]\n",
      " [  8.97471000e+05   4.00000000e+00   8.00000000e+00 ...,   1.00000000e+01\n",
      "    4.00000000e+00   1.00000000e+00]]\n",
      "(699,) [ 2.  2.  2.  2.  2.  4.  2.  2.  2.  2.  2.  2.  4.  2.  4.  4.  2.  2.\n",
      "  4.  2.  4.  4.  2.  4.  2.  4.  2.  2.  2.  2.  2.  2.  4.  2.  2.  2.\n",
      "  4.  2.  4.  4.  2.  4.  4.  4.  4.  2.  4.  2.  2.  4.  4.  4.  4.  4.\n",
      "  4.  4.  4.  4.  4.  4.  4.  2.  4.  4.  2.  4.  2.  4.  4.  2.  2.  4.\n",
      "  2.  4.  4.  2.  2.  2.  2.  2.  2.  2.  2.  2.  4.  4.  4.  4.  2.  2.\n",
      "  2.  2.  2.  2.  2.  2.  2.  2.  4.  4.  4.  4.  2.  4.  4.  4.  4.  4.\n",
      "  2.  4.  2.  4.  4.  4.  2.  2.  2.  4.  2.  2.  2.  2.  4.  4.  4.  2.\n",
      "  4.  2.  4.  2.  2.  2.  4.  2.  2.  2.  2.  2.  2.  2.  2.  2.  4.  2.\n",
      "  2.  2.  4.  2.  2.  4.  2.  4.  4.  2.  2.  4.  2.  2.  2.  4.  4.  2.\n",
      "  2.  2.  2.  2.  4.  4.  2.  2.  2.  2.  2.  4.  4.  4.  2.  4.  2.  4.\n",
      "  2.  2.  2.  4.  4.  2.  4.  4.  4.  2.  4.  4.  2.  2.  2.  2.  2.  2.\n",
      "  2.  2.  4.  4.  2.  2.  2.  4.  4.  2.  2.  2.  4.  4.  2.  4.  4.  4.\n",
      "  2.  2.  4.  2.  2.  4.  4.  4.  4.  2.  4.  4.  2.  4.  4.  4.  2.  4.\n",
      "  2.  2.  4.  4.  4.  4.  2.  2.  2.  2.  2.  2.  4.  4.  2.  2.  2.  4.\n",
      "  2.  4.  4.  4.  2.  2.  2.  2.  4.  4.  4.  4.  4.  2.  4.  4.  4.  2.\n",
      "  4.  2.  4.  4.  2.  2.  2.  2.  2.  4.  2.  2.  4.  4.  4.  4.  4.  2.\n",
      "  4.  4.  2.  2.  4.  4.  2.  4.  2.  2.  2.  4.  4.  2.  4.  2.  4.  4.\n",
      "  2.  2.  4.  2.  2.  2.  4.  2.  2.  2.  4.  4.  2.  2.  4.  2.  2.  4.\n",
      "  2.  2.  4.  2.  4.  4.  4.  2.  2.  4.  4.  2.  4.  2.  2.  4.  4.  2.\n",
      "  2.  2.  4.  2.  2.  2.  4.  4.  2.  2.  2.  4.  2.  2.  4.  4.  4.  4.\n",
      "  4.  4.  2.  2.  2.  2.  4.  4.  2.  2.  2.  2.  2.  2.  2.  2.  2.  2.\n",
      "  2.  2.  2.  4.  2.  2.  2.  2.  4.  2.  2.  2.  2.  4.  2.  2.  2.  2.\n",
      "  2.  2.  2.  2.  4.  2.  2.  2.  2.  2.  2.  2.  2.  2.  2.  2.  4.  2.\n",
      "  4.  2.  4.  2.  2.  2.  2.  4.  2.  2.  2.  4.  2.  4.  2.  2.  2.  2.\n",
      "  2.  2.  2.  4.  4.  2.  2.  2.  4.  2.  2.  2.  2.  2.  2.  2.  2.  4.\n",
      "  2.  2.  2.  4.  2.  4.  4.  4.  2.  2.  2.  2.  2.  2.  2.  4.  4.  4.\n",
      "  2.  2.  2.  2.  2.  2.  2.  2.  2.  2.  2.  4.  2.  2.  4.  4.  2.  2.\n",
      "  2.  4.  4.  4.  2.  4.  2.  4.  2.  2.  2.  2.  2.  2.  2.  2.  2.  2.\n",
      "  2.  2.  4.  2.  2.  2.  2.  2.  2.  2.  4.  4.  2.  2.  2.  4.  2.  2.\n",
      "  4.  4.  2.  2.  2.  2.  2.  2.  4.  2.  2.  2.  2.  2.  2.  2.  2.  2.\n",
      "  2.  2.  2.  2.  2.  2.  4.  2.  2.  4.  2.  2.  2.  2.  2.  2.  2.  2.\n",
      "  2.  2.  2.  2.  2.  2.  2.  4.  2.  2.  4.  4.  4.  4.  2.  2.  4.  2.\n",
      "  2.  2.  2.  2.  2.  4.  4.  2.  2.  2.  4.  2.  4.  2.  4.  4.  4.  2.\n",
      "  4.  2.  2.  2.  2.  2.  2.  2.  2.  4.  4.  4.  2.  2.  4.  2.  4.  4.\n",
      "  4.  2.  2.  2.  2.  2.  2.  2.  2.  2.  2.  2.  2.  2.  4.  2.  2.  2.\n",
      "  2.  2.  2.  4.  2.  2.  4.  2.  2.  2.  2.  2.  2.  2.  2.  2.  2.  2.\n",
      "  4.  2.  2.  2.  2.  2.  2.  2.  2.  2.  4.  2.  2.  2.  2.  2.  2.  2.\n",
      "  2.  2.  4.  4.  4.  2.  2.  2.  2.  2.  2.  2.  2.  2.  4.  4.  2.  2.\n",
      "  2.  2.  2.  2.  2.  2.  2.  4.  2.  2.  2.  2.  4.  4.  4.]\n",
      "Cancer  2.0 n= 458\n",
      "Cancer  4.0 n= 241\n",
      "(699,) [ 1.  1.  1.  1.  1. -1.  1.  1.  1.  1.  1.  1. -1.  1. -1. -1.  1.  1.\n",
      " -1.  1. -1. -1.  1. -1.  1. -1.  1.  1.  1.  1.  1.  1. -1.  1.  1.  1.\n",
      " -1.  1. -1. -1.  1. -1. -1. -1. -1.  1. -1.  1.  1. -1. -1. -1. -1. -1.\n",
      " -1. -1. -1. -1. -1. -1. -1.  1. -1. -1.  1. -1.  1. -1. -1.  1.  1. -1.\n",
      "  1. -1. -1.  1.  1.  1.  1.  1.  1.  1.  1.  1. -1. -1. -1. -1.  1.  1.\n",
      "  1.  1.  1.  1.  1.  1.  1.  1. -1. -1. -1. -1.  1. -1. -1. -1. -1. -1.\n",
      "  1. -1.  1. -1. -1. -1.  1.  1.  1. -1.  1.  1.  1.  1. -1. -1. -1.  1.\n",
      " -1.  1. -1.  1.  1.  1. -1.  1.  1.  1.  1.  1.  1.  1.  1.  1. -1.  1.\n",
      "  1.  1. -1.  1.  1. -1.  1. -1. -1.  1.  1. -1.  1.  1.  1. -1. -1.  1.\n",
      "  1.  1.  1.  1. -1. -1.  1.  1.  1.  1.  1. -1. -1. -1.  1. -1.  1. -1.\n",
      "  1.  1.  1. -1. -1.  1. -1. -1. -1.  1. -1. -1.  1.  1.  1.  1.  1.  1.\n",
      "  1.  1. -1. -1.  1.  1.  1. -1. -1.  1.  1.  1. -1. -1.  1. -1. -1. -1.\n",
      "  1.  1. -1.  1.  1. -1. -1. -1. -1.  1. -1. -1.  1. -1. -1. -1.  1. -1.\n",
      "  1.  1. -1. -1. -1. -1.  1.  1.  1.  1.  1.  1. -1. -1.  1.  1.  1. -1.\n",
      "  1. -1. -1. -1.  1.  1.  1.  1. -1. -1. -1. -1. -1.  1. -1. -1. -1.  1.\n",
      " -1.  1. -1. -1.  1.  1.  1.  1.  1. -1.  1.  1. -1. -1. -1. -1. -1.  1.\n",
      " -1. -1.  1.  1. -1. -1.  1. -1.  1.  1.  1. -1. -1.  1. -1.  1. -1. -1.\n",
      "  1.  1. -1.  1.  1.  1. -1.  1.  1.  1. -1. -1.  1.  1. -1.  1.  1. -1.\n",
      "  1.  1. -1.  1. -1. -1. -1.  1.  1. -1. -1.  1. -1.  1.  1. -1. -1.  1.\n",
      "  1.  1. -1.  1.  1.  1. -1. -1.  1.  1.  1. -1.  1.  1. -1. -1. -1. -1.\n",
      " -1. -1.  1.  1.  1.  1. -1. -1.  1.  1.  1.  1.  1.  1.  1.  1.  1.  1.\n",
      "  1.  1.  1. -1.  1.  1.  1.  1. -1.  1.  1.  1.  1. -1.  1.  1.  1.  1.\n",
      "  1.  1.  1.  1. -1.  1.  1.  1.  1.  1.  1.  1.  1.  1.  1.  1. -1.  1.\n",
      " -1.  1. -1.  1.  1.  1.  1. -1.  1.  1.  1. -1.  1. -1.  1.  1.  1.  1.\n",
      "  1.  1.  1. -1. -1.  1.  1.  1. -1.  1.  1.  1.  1.  1.  1.  1.  1. -1.\n",
      "  1.  1.  1. -1.  1. -1. -1. -1.  1.  1.  1.  1.  1.  1.  1. -1. -1. -1.\n",
      "  1.  1.  1.  1.  1.  1.  1.  1.  1.  1.  1. -1.  1.  1. -1. -1.  1.  1.\n",
      "  1. -1. -1. -1.  1. -1.  1. -1.  1.  1.  1.  1.  1.  1.  1.  1.  1.  1.\n",
      "  1.  1. -1.  1.  1.  1.  1.  1.  1.  1. -1. -1.  1.  1.  1. -1.  1.  1.\n",
      " -1. -1.  1.  1.  1.  1.  1.  1. -1.  1.  1.  1.  1.  1.  1.  1.  1.  1.\n",
      "  1.  1.  1.  1.  1.  1. -1.  1.  1. -1.  1.  1.  1.  1.  1.  1.  1.  1.\n",
      "  1.  1.  1.  1.  1.  1.  1. -1.  1.  1. -1. -1. -1. -1.  1.  1. -1.  1.\n",
      "  1.  1.  1.  1.  1. -1. -1.  1.  1.  1. -1.  1. -1.  1. -1. -1. -1.  1.\n",
      " -1.  1.  1.  1.  1.  1.  1.  1.  1. -1. -1. -1.  1.  1. -1.  1. -1. -1.\n",
      " -1.  1.  1.  1.  1.  1.  1.  1.  1.  1.  1.  1.  1.  1. -1.  1.  1.  1.\n",
      "  1.  1.  1. -1.  1.  1. -1.  1.  1.  1.  1.  1.  1.  1.  1.  1.  1.  1.\n",
      " -1.  1.  1.  1.  1.  1.  1.  1.  1.  1. -1.  1.  1.  1.  1.  1.  1.  1.\n",
      "  1.  1. -1. -1. -1.  1.  1.  1.  1.  1.  1.  1.  1.  1. -1. -1.  1.  1.\n",
      "  1.  1.  1.  1.  1.  1.  1. -1.  1.  1.  1.  1. -1. -1. -1.]\n",
      "--\n",
      "[  1.07170410e+06   4.41773963e+00   3.13447783e+00   3.20743920e+00\n",
      "   2.80686695e+00   3.21602289e+00   3.48640916e+00   3.43776824e+00\n",
      "   2.86695279e+00   1.58941345e+00]\n",
      "[  6.16654159e+05   2.81372582e+00   3.04927560e+00   2.96978617e+00\n",
      "   2.85333603e+00   2.21271541e+00   3.61933705e+00   2.43661945e+00\n",
      "   3.05144882e+00   1.71385070e+00]\n",
      "min datos [  6.16340000e+04   1.00000000e+00   1.00000000e+00   1.00000000e+00\n",
      "   1.00000000e+00   1.00000000e+00   1.00000000e+00   1.00000000e+00\n",
      "   1.00000000e+00   1.00000000e+00]\n",
      "max datos [  1.34543520e+07   1.00000000e+01   1.00000000e+01   1.00000000e+01\n",
      "   1.00000000e+01   1.00000000e+01   1.00000000e+01   1.00000000e+01\n",
      "   1.00000000e+01   1.00000000e+01]\n",
      "--\n",
      "min max datos columns\n",
      "[ 0.  0.  0.  0.  0.  0.  0.  0.  0.  0.] [ 1.  1.  1.  1.  1.  1.  1.  1.  1.  1.]\n"
     ]
    }
   ],
   "source": [
    "cancer = np.loadtxt(\"data/datasetCancer.csv\", delimiter=\";\")\n",
    "datos = cancer[:,:10]\n",
    "clase = cancer[:,10]\n",
    "print(cancer.shape)\n",
    "print(datos.shape,datos)\n",
    "print(clase.shape,clase)\n",
    "\n",
    "for tipoCancer in np.unique(clase):\n",
    "    print (\"Cancer \", tipoCancer, \"n=\", np.sum(clase==tipoCancer))\n",
    "clase[clase==2]=1\n",
    "clase[clase==4]=-1\n",
    "print (\"--\")\n",
    "print (np.mean(datos, axis=0) )   \n",
    "print (np.std(datos, axis=0)  )  \n",
    "print (\"min datos\", np.min(datos, axis=0))\n",
    "print (\"max datos\", np.max(datos, axis=0))\n",
    "\n",
    "\n",
    "from sklearn.preprocessing import scale, MinMaxScaler \n",
    "\n",
    "print (\"--\")\n",
    "datos = MinMaxScaler().fit_transform(datos)\n",
    "print (\"min max datos columns\")\n",
    "print (np.min(datos, axis=0), np.max(datos, axis=0))"
   ]
  },
  {
   "cell_type": "code",
   "execution_count": 90,
   "metadata": {},
   "outputs": [
    {
     "name": "stdout",
     "output_type": "stream",
     "text": [
      "Epoch: 5; Error: 16.336438928238714;\n",
      "Epoch: 10; Error: 9.283869972719568;\n",
      "Epoch: 15; Error: 6.648954989587514;\n",
      "Epoch: 20; Error: 2.9300563015825762;\n",
      "Epoch: 25; Error: 2.0506014729908895;\n",
      "Epoch: 30; Error: 2.0088762914412164;\n",
      "Epoch: 35; Error: 2.001539030495024;\n",
      "Epoch: 40; Error: 1.9997117247902139;\n",
      "Epoch: 45; Error: 1.9995896890755658;\n",
      "Epoch: 50; Error: 1.9993304230030637;\n",
      "Epoch: 55; Error: 1.9903098618804576;\n",
      "Epoch: 60; Error: 1.9340581224124784;\n",
      "Epoch: 65; Error: 1.884781203206434;\n",
      "Epoch: 70; Error: 1.8652521732341236;\n",
      "Epoch: 75; Error: 1.7215938562528046;\n",
      "Epoch: 80; Error: 1.6000178126410332;\n",
      "Epoch: 85; Error: 1.4240283507302587;\n",
      "Epoch: 90; Error: 1.1509577465259033;\n",
      "Epoch: 95; Error: 0.15986509358309312;\n",
      "The goal of learning is reached\n"
     ]
    }
   ],
   "source": [
    "# Definimos y entrenamos una red con dos capas intermedias y una neurona de salida\n",
    "from sklearn import cross_validation\n",
    "import neurolab as nl\n",
    "\n",
    "limits = np.vstack((np.min(datos)*np.ones(datos.shape[1]), np.max(datos)*np.ones(datos.shape[1]))).T\n",
    "test_size = 0.6\n",
    "\n",
    "datos_train, datos_test, clase_train, clase_test = cross_validation.train_test_split(datos, \n",
    "                                                                     clase, \n",
    "                                                                     test_size=test_size, \n",
    "                                                                     random_state=np.random.randint(1,100))\n",
    "net = nl.net.newff(limits,[6, 1])\n",
    "err = net.train(datos_train, clase_train.reshape(len(clase_train), 1), show=5, epochs=100)"
   ]
  },
  {
   "cell_type": "code",
   "execution_count": 91,
   "metadata": {},
   "outputs": [
    {
     "data": {
      "text/plain": [
       "Text(0,0.5,'error (default SSE)')"
      ]
     },
     "execution_count": 91,
     "metadata": {},
     "output_type": "execute_result"
    },
    {
     "data": {
      "image/png": "[encoded data removed]",
      "text/plain": [
       "<matplotlib.figure.Figure at 0x234bf286160>"
      ]
     },
     "metadata": {},
     "output_type": "display_data"
    }
   ],
   "source": [
    "plt.plot(err)\n",
    "plt.xlabel('Epoch number')\n",
    "plt.ylabel('error (default SSE)')"
   ]
  },
  {
   "cell_type": "code",
   "execution_count": 98,
   "metadata": {},
   "outputs": [
    {
     "name": "stdout",
     "output_type": "stream",
     "text": [
      "(420, 10)\n",
      "[[143   0]\n",
      " [277   0]]\n",
      "desempeño en el dataset de TEST:  0.340476190476\n"
     ]
    }
   ],
   "source": [
    "# miramos el desempeño en el dataset de TEST\n",
    "from sklearn.metrics import confusion_matrix\n",
    "print(datos_test.shape)\n",
    "pred = net.sim(datos_test)[:,0]\n",
    "pred[pred<5]=-1\n",
    "pred[pred>5]=1\n",
    "\n",
    "cm = confusion_matrix(clase_test, pred)\n",
    "print (cm)\n",
    "print (\"desempeño en el dataset de TEST: \",np.sum(np.diag(cm))*1./np.sum(cm))"
   ]
  },
  {
   "cell_type": "code",
   "execution_count": 99,
   "metadata": {},
   "outputs": [
    {
     "name": "stdout",
     "output_type": "stream",
     "text": [
      "[[ 98   0]\n",
      " [  0 181]]\n",
      "desempeño en el dataset de TRAIN:  1.0\n"
     ]
    }
   ],
   "source": [
    "# miramos el desempeño en el dataset de TRAIN\n",
    "pred =  net.sim(datos_train)[:,0]\n",
    "pred[pred<0]=-1\n",
    "pred[pred>0]=1\n",
    "\n",
    "cm = confusion_matrix(clase_train, pred)\n",
    "print (cm)\n",
    "print (\"desempeño en el dataset de TRAIN: \",np.sum(np.diag(cm))*1./np.sum(cm))"
   ]
  },
  {
   "cell_type": "code",
   "execution_count": 94,
   "metadata": {},
   "outputs": [
    {
     "name": "stdout",
     "output_type": "stream",
     "text": [
      "acierto en test  0.957142857143\n",
      "[[139   4]\n",
      " [ 14 263]]\n"
     ]
    }
   ],
   "source": [
    "from sklearn.naive_bayes import GaussianNB\n",
    "g = GaussianNB()\n",
    "g.fit(datos_train, clase_train)\n",
    "predicciones_test  = g.predict(datos_test)\n",
    "cm=confusion_matrix(clase_test, predicciones_test)\n",
    "print (\"acierto en test \", g.score(datos_test, clase_test))\n",
    "#print (cm)"
   ]
  },
  {
   "cell_type": "markdown",
   "metadata": {},
   "source": [
    "## Pruebas con varios de los clasificadores de SciKit-Learn"
   ]
  },
  {
   "cell_type": "code",
   "execution_count": 96,
   "metadata": {},
   "outputs": [
    {
     "name": "stdout",
     "output_type": "stream",
     "text": [
      "Accuracy for DecisionTree: 91.42857142857143\n",
      "Accuracy for SVM: 95.95238095238095\n",
      "Accuracy for perceptron: 96.9047619047619\n",
      "Accuracy for KNN: 95.71428571428572\n",
      "Accuracy for GNB: 95.71428571428572\n",
      "Best gender classifier is Perceptron\n"
     ]
    },
    {
     "name": "stderr",
     "output_type": "stream",
     "text": [
      "C:\\Users\\Juan Pulido\\Anaconda3\\lib\\site-packages\\sklearn\\linear_model\\stochastic_gradient.py:128: FutureWarning: max_iter and tol parameters have been added in <class 'sklearn.linear_model.perceptron.Perceptron'> in 0.19. If both are left unset, they default to max_iter=5 and tol=None. If tol is not None, max_iter defaults to max_iter=1000. From 0.21, default max_iter will be 1000, and default tol will be 1e-3.\n",
      "  \"and default tol will be 1e-3.\" % type(self), FutureWarning)\n"
     ]
    }
   ],
   "source": [
    "from sklearn import tree\n",
    "from sklearn.svm import SVC # Supported Vector Classificator\n",
    "from sklearn.linear_model import Perceptron\n",
    "from sklearn.neighbors import KNeighborsClassifier\n",
    "from sklearn.metrics import accuracy_score\n",
    "from sklearn.naive_bayes import GaussianNB\n",
    "import numpy as np\n",
    "\n",
    "#CLASSIFIERS\n",
    "# using the default values for all the hyperparameters\n",
    "clf_tree = tree.DecisionTreeClassifier()\n",
    "clf_SVM = SVC()\n",
    "clf_Perceptron = Perceptron()\n",
    "clf_KNN = KNeighborsClassifier()\n",
    "clf_GNB = GaussianNB()\n",
    "\n",
    "# Training the models\n",
    "clf_tree = clf_tree.fit(datos_train, clase_train)\n",
    "clf_SVM.fit(datos_train, clase_train)\n",
    "clf_Perceptron.fit(datos_train, clase_train)\n",
    "clf_KNN.fit(datos_train, clase_train)\n",
    "clf_GNB.fit(datos_train, clase_train)\n",
    "\n",
    "# Testing using the same data\n",
    "pred_tree = clf_tree.predict(datos_test)\n",
    "acc_tree = accuracy_score(clase_test, pred_tree) * 100\n",
    "print('Accuracy for DecisionTree: {}'.format(acc_tree))\n",
    "\n",
    "pred_svm = clf_SVM.predict(datos_test)\n",
    "acc_svm = accuracy_score(clase_test, pred_svm) * 100\n",
    "print('Accuracy for SVM: {}'.format(acc_svm))\n",
    "\n",
    "pred_per = clf_Perceptron.predict(datos_test)\n",
    "acc_per = accuracy_score(clase_test, pred_per) * 100\n",
    "print('Accuracy for perceptron: {}'.format(acc_per))\n",
    "\n",
    "pred_KNN = clf_KNN.predict(datos_test)\n",
    "acc_KNN = accuracy_score(clase_test, pred_KNN) * 100\n",
    "print('Accuracy for KNN: {}'.format(acc_KNN))\n",
    "\n",
    "pred_GNB = clf_GNB.predict(datos_test)\n",
    "acc_GNB = accuracy_score(clase_test, pred_GNB) * 100\n",
    "print('Accuracy for GNB: {}'.format(acc_GNB))\n",
    "\n",
    "# The best classifier from svm, per, KNN\n",
    "index = np.argmax([acc_svm, acc_per, acc_KNN, acc_GNB])\n",
    "classifiers = {0: 'SVM', 1: 'Perceptron', 2: 'KNN', 3: 'GNB'}\n",
    "print('Best gender classifier is {}'.format(classifiers[index]))"
   ]
  },
  {
   "cell_type": "code",
   "execution_count": null,
   "metadata": {
    "collapsed": true
   },
   "outputs": [],
   "source": []
  }
 ],
 "metadata": {
  "kernelspec": {
   "display_name": "Python 3",
   "language": "python",
   "name": "python3"
  },
  "language_info": {
   "codemirror_mode": {
    "name": "ipython",
    "version": 3
   },
   "file_extension": ".py",
   "mimetype": "text/x-python",
   "name": "python",
   "nbconvert_exporter": "python",
   "pygments_lexer": "ipython3",
   "version": "3.6.3"
  },
  "widgets": {
   "application/vnd.jupyter.widget-state+json": {
    "state": {},
    "version_major": 2,
    "version_minor": 0
   }
  }
 },
 "nbformat": 4,
 "nbformat_minor": 1
}
