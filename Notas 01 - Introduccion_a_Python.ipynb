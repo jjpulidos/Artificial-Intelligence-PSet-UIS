{
 "cells": [
  {
   "cell_type": "markdown",
   "metadata": {},
   "source": [
    "# 01. Introducción a Python"
   ]
  },
  {
   "cell_type": "markdown",
   "metadata": {},
   "source": [
    "## Asignación automatica de tipos de variables"
   ]
  },
  {
   "cell_type": "markdown",
   "metadata": {},
   "source": [
    "En Python no es necesario declarar explícitamente el tipo de las variables. El intérprete trata de inferir el tipo de las variables según se usan. Igualmente, las operaciones tienen semántica distinta para distintos tipos de datos. Fíjate en el ejemplo siguiente. ¿Por qué el resultado de las dos últimas divisiones no es el mismo?"
   ]
  },
  {
   "cell_type": "code",
   "execution_count": 2,
   "metadata": {},
   "outputs": [
    {
     "name": "stdout",
     "output_type": "stream",
     "text": [
      "<type 'int'> <type 'int'> <type 'float'> <type 'str'>\n",
      "a = 10 ; b = 3 ; c = 3.0\n",
      "a/b = 3\n",
      "a/c = 3.33333333333\n"
     ]
    }
   ],
   "source": [
    "a = 10\n",
    "b = 3\n",
    "c = 3.\n",
    "d = \"hola\"\n",
    "print type(a), type(b), type(c), type(d)\n",
    "\n",
    "print \"a =\",a,\"; b =\",b, \"; c =\",c\n",
    "print \"a/b =\", a/b\n",
    "print \"a/c =\", a/c"
   ]
  },
  {
   "cell_type": "markdown",
   "metadata": {},
   "source": [
    "## Matrices y vectores"
   ]
  },
  {
   "cell_type": "markdown",
   "metadata": {},
   "source": [
    "Con la librería `numpy` se trabaja con matrices de forma natural. Fíjate cómo se declaran y cómo descubrimos sus dimensiones."
   ]
  },
  {
   "cell_type": "code",
   "execution_count": 2,
   "metadata": {},
   "outputs": [
    {
     "name": "stdout",
     "output_type": "stream",
     "text": [
      "a shape (7, 5)\n",
      "a rows 7\n",
      "a cols 5\n",
      "v shape (8,)\n",
      "v elems 8\n"
     ]
    }
   ],
   "source": [
    "import numpy as np\n",
    "\n",
    "a = np.array([[1,2,3,4,5],\n",
    "              [5,4,3,2,1],\n",
    "              [9,8,7,6,5],\n",
    "              [7,6,5,6,7],\n",
    "              [2,2,2,3,3],\n",
    "              [4,3,4,3,4],\n",
    "              [5,1,1,4,1]])\n",
    "print (\"a shape\", a.shape)\n",
    "print (\"a rows\", a.shape[0])\n",
    "print (\"a cols\", a.shape[1])\n",
    "\n",
    "v = np.array([2,3,4,5,6,7,3,12])\n",
    "print (\"v shape\", v.shape)\n",
    "print (\"v elems\", v.shape[0])"
   ]
  },
  {
   "cell_type": "markdown",
   "metadata": {},
   "source": [
    "Con la notación de índices accedemos a columas o filas enteras, rangos de columnas o filas, elementos individuales o porciones de una matriz o un vector."
   ]
  },
  {
   "cell_type": "code",
   "execution_count": 4,
   "metadata": {},
   "outputs": [
    {
     "name": "stdout",
     "output_type": "stream",
     "text": [
      "una fila         [9 8 7 6 5]\n",
      "una fila         [9 8 7 6 5]\n",
      "una columna      [3 3 7 5 2 4 1]\n",
      "un elemento      7\n",
      "varias filas    \n",
      "[[9 8 7 6 5]\n",
      " [7 6 5 6 7]\n",
      " [2 2 2 3 3]]\n",
      "varias columnas \n",
      "[[2 3]\n",
      " [4 3]\n",
      " [8 7]\n",
      " [6 5]\n",
      " [2 2]\n",
      " [3 4]\n",
      " [1 1]]\n",
      "una porcion     \n",
      "[[8 7]\n",
      " [6 5]\n",
      " [2 2]]\n"
     ]
    }
   ],
   "source": [
    "print \"una fila        \" ,a[2]\n",
    "print \"una fila        \",a[2,:]\n",
    "print \"una columna     \",a[:,2]\n",
    "print \"un elemento     \",a[2,2]\n",
    "print \"varias filas    \\n\",a[2:5]\n",
    "print \"varias columnas \\n\",a[:,1:3]\n",
    "print \"una porcion     \\n\",a[2:5,1:3]\n"
   ]
  },
  {
   "cell_type": "markdown",
   "metadata": {},
   "source": [
    "Muchas funciones de la librería `numpy` operan sobre una matriz completa, o de forma separada por columnas o filas según el valor del argumento `axis`."
   ]
  },
  {
   "cell_type": "code",
   "execution_count": 5,
   "metadata": {},
   "outputs": [
    {
     "name": "stdout",
     "output_type": "stream",
     "text": [
      "suma total 138\n",
      "suma eje 0 [33 26 25 28 26]\n",
      "suma eje 1 [15 15 35 31 12 18 12]\n",
      "promedio total 3.94285714286\n",
      "promedio eje 0 [ 4.71428571  3.71428571  3.57142857  4.          3.71428571]\n",
      "promedio eje 1 [ 3.   3.   7.   6.2  2.4  3.6  2.4]\n"
     ]
    }
   ],
   "source": [
    "print \"suma total\", np.sum(a)\n",
    "print \"suma eje 0\", np.sum(a, axis=0)\n",
    "print \"suma eje 1\", np.sum(a, axis=1)\n",
    "print \"promedio total\", np.mean(a)\n",
    "print \"promedio eje 0\", np.mean(a, axis=0)\n",
    "print \"promedio eje 1\", np.mean(a, axis=1)"
   ]
  },
  {
   "cell_type": "markdown",
   "metadata": {},
   "source": [
    "Las matrices en Python pueden tener un número arbitrario de dimensiones y podemos acceder a submatrices en la dirección o dimensión que queramos."
   ]
  },
  {
   "cell_type": "code",
   "execution_count": 6,
   "metadata": {},
   "outputs": [
    {
     "name": "stdout",
     "output_type": "stream",
     "text": [
      "Matrix 3D completa\n",
      "[[[1 5 6]\n",
      "  [3 8 5]\n",
      "  [1 2 7]]\n",
      "\n",
      " [[4 6 2]\n",
      "  [1 2 1]\n",
      "  [5 2 7]]\n",
      "\n",
      " [[6 8 6]\n",
      "  [3 9 5]\n",
      "  [2 2 3]]]\n",
      "---\n",
      "[[1 5 6]\n",
      " [3 8 5]\n",
      " [1 2 7]]\n",
      "---\n",
      "[[4 6 2]\n",
      " [1 2 1]\n",
      " [5 2 7]]\n",
      "---\n",
      "[[1 5 6]\n",
      " [4 6 2]\n",
      " [6 8 6]]\n",
      "---\n",
      "[1 4 6]\n",
      "---\n",
      "[[ 4.          5.33333333  3.33333333]\n",
      " [ 4.          1.33333333  4.66666667]\n",
      " [ 6.66666667  5.66666667  2.33333333]]\n"
     ]
    }
   ],
   "source": [
    "m = np.random.randint(10, size=(3,3,3))\n",
    "print \"Matrix 3D completa\\n\", m\n",
    "print \"---\\n\", m[0,:,:]\n",
    "print \"---\\n\", m[1,:,:]\n",
    "print \"---\\n\", m[:,0,:]\n",
    "print \"---\\n\", m[:,0,0]\n",
    "print \"---\\n\", np.mean(m, axis=2)\n"
   ]
  },
  {
   "cell_type": "markdown",
   "metadata": {},
   "source": [
    "## Generación de matrices y vectores"
   ]
  },
  {
   "cell_type": "code",
   "execution_count": 7,
   "metadata": {},
   "outputs": [
    {
     "name": "stdout",
     "output_type": "stream",
     "text": [
      "matrix identidad\n",
      "[[ 1.  0.  0.]\n",
      " [ 0.  1.  0.]\n",
      " [ 0.  0.  1.]]\n",
      "vector de ceros [ 0.  0.  0.  0.]\n",
      "matriz de ceros\n",
      "[[ 0.  0.]\n",
      " [ 0.  0.]\n",
      " [ 0.  0.]]\n",
      "matriz de unos\n",
      "[[ 1.  1.  1.]\n",
      " [ 1.  1.  1.]]\n",
      "vector rango [0 1 2 3 4 5 6 7 8 9]\n",
      "vector rango [5 6 7 8 9]\n",
      "vector espacio lineal [-10.   -7.5  -5.   -2.5   0.    2.5   5. ]\n",
      "matriz aleatoria según distribución uniforme [0,1]\n",
      "[[ 0.12558395  0.81378444  0.26223676  0.45904138  0.15090495]\n",
      " [ 0.69983933  0.45163302  0.5893617   0.7529995   0.00866317]\n",
      " [ 0.71339887  0.26607104  0.79347745  0.62850461  0.04164585]]\n",
      "vector aleatorio de enteros entre 0 y 5 [0 4 1 1 0 4 2 0 1 4]\n"
     ]
    }
   ],
   "source": [
    "print \"matrix identidad\\n\", np.eye(3)\n",
    "print \"vector de ceros\", np.zeros(4)\n",
    "print \"matriz de ceros\\n\", np.zeros((3,2))\n",
    "print \"matriz de unos\\n\", np.ones((2,3))\n",
    "print \"vector rango\", np.arange(10)\n",
    "print \"vector rango\", np.arange(5,10)\n",
    "print \"vector espacio lineal\", np.linspace(-10,5,7)\n",
    "print \"matriz aleatoria según distribución uniforme [0,1]\\n\", np.random.random(size=(3,5))\n",
    "print \"vector aleatorio de enteros entre 0 y 5\", np.random.randint(5, size=10)"
   ]
  },
  {
   "cell_type": "markdown",
   "metadata": {},
   "source": [
    "## Operaciones vectorizadas"
   ]
  },
  {
   "cell_type": "code",
   "execution_count": 8,
   "metadata": {},
   "outputs": [
    {
     "name": "stdout",
     "output_type": "stream",
     "text": [
      "[10 12 13 15 20]\n",
      "[11 13 14 16 21]\n",
      "[20 24 26 30 40]\n",
      "1038\n"
     ]
    }
   ],
   "source": [
    "v = np.array([10,12,13,15,20])\n",
    "print v\n",
    "print v+1\n",
    "print v*2\n",
    "print v.dot(v)"
   ]
  },
  {
   "cell_type": "code",
   "execution_count": 9,
   "metadata": {},
   "outputs": [
    {
     "name": "stdout",
     "output_type": "stream",
     "text": [
      "A [0, 1, 2, 3, 4, 5, 6, 7, 8, 9]\n",
      "B [  0.    2.5   5.    7.5  10. ]\n"
     ]
    }
   ],
   "source": [
    "print \"A\", range(10)\n",
    "print \"B\", np.linspace(0,10,5)"
   ]
  },
  {
   "cell_type": "code",
   "execution_count": 10,
   "metadata": {},
   "outputs": [
    {
     "name": "stdout",
     "output_type": "stream",
     "text": [
      "a+b\n",
      "[[7 7 7]\n",
      " [7 7 7]]\n",
      "a**2\n",
      "[[ 1  4  9]\n",
      " [16 25 36]]\n",
      "a*b\n",
      "[[ 6 10 12]\n",
      " [12 10  6]]\n",
      "a x b'\n",
      "[[28 10]\n",
      " [73 28]]\n",
      "a' x b\n",
      "[[18 13  8]\n",
      " [27 20 13]\n",
      " [36 27 18]]\n"
     ]
    }
   ],
   "source": [
    "a = np.array([[1,2,3],[4,5,6]])\n",
    "b = np.array([[6,5,4],[3,2,1]])\n",
    "print \"a+b\\n\",a+b\n",
    "print \"a**2\\n\", a**2\n",
    "print \"a*b\\n\",a*b\n",
    "print \"a x b'\\n\",a.dot(b.T)\n",
    "print \"a' x b\\n\",a.T.dot(b)\n"
   ]
  },
  {
   "cell_type": "markdown",
   "metadata": {},
   "source": [
    "Las operaciones vectorizadas también funcionan con expresiones _booleanas_. Fíjate cómo se indexa un vector con una expresión booleana para seleccionar un conjunto de elementos."
   ]
  },
  {
   "cell_type": "code",
   "execution_count": 11,
   "metadata": {},
   "outputs": [
    {
     "name": "stdout",
     "output_type": "stream",
     "text": [
      "posiciones en a >4: [False  True False  True False  True]\n",
      "elementos de a >4: [ 8 10  5]\n"
     ]
    }
   ],
   "source": [
    "a = np.array([1,8,4,10,-4,5])\n",
    "print \"posiciones en a >4:\", a>4\n",
    "print \"elementos de a >4:\",a[a>4]\n"
   ]
  },
  {
   "cell_type": "markdown",
   "metadata": {},
   "source": [
    "## Funciones y estructuras"
   ]
  },
  {
   "cell_type": "markdown",
   "metadata": {},
   "source": [
    "Python es un lenguaje **indentado**, no usa corchetes para delimitar el alcance de las estructuras de programación sino que se fija en los **cambios de indentación**. \n",
    "\n",
    "No se declara el tipo de los argumentos de las funciones. La semática de la implementación ha de estar preparada para funcionar con los tipos de datos que quieres."
   ]
  },
  {
   "cell_type": "code",
   "execution_count": 12,
   "metadata": {},
   "outputs": [
    {
     "name": "stdout",
     "output_type": "stream",
     "text": [
      "110.16\n",
      "[ 110.16  112.16]\n",
      "[[14 22]\n",
      " [ 1  1]]\n",
      "10\n"
     ]
    }
   ],
   "source": [
    "def funcion_1(a,b):\n",
    "    r = a**2\n",
    "    return r+b\n",
    "\n",
    "def greatest(a,b):\n",
    "    if a>b:\n",
    "        return a\n",
    "    else:\n",
    "        return b\n",
    "\n",
    "m1 = np.array([[3,4],[1,1]])\n",
    "m2 = np.array([[5,6],[0,0]])\n",
    "print funcion_1 (10.4,2)\n",
    "print funcion_1 (10.4, np.array([2,4]))\n",
    "print funcion_1 (m1,m2)\n",
    "print greatest(10,2)"
   ]
  },
  {
   "cell_type": "markdown",
   "metadata": {},
   "source": [
    "Podemos definir valores por defecto para los argumentos de las funciones y llamarlas usando explícitamente el nombre de los argumentos. Además, las funciones pueden devolver varios valores."
   ]
  },
  {
   "cell_type": "code",
   "execution_count": 13,
   "metadata": {},
   "outputs": [
    {
     "name": "stdout",
     "output_type": "stream",
     "text": [
      "16\n",
      "64\n",
      "(64, 64)\n",
      "power1 64 power2 256\n"
     ]
    }
   ],
   "source": [
    "def f_power(x, p=2):\n",
    "    return x**p\n",
    "\n",
    "def f_powers(x, p1=2, p2=3):\n",
    "    return x**p1, x**p2\n",
    "\n",
    "print f_power(4)\n",
    "print f_power(4,3)\n",
    "print f_powers(4, p1=3)\n",
    "xp1, xp2 = f_powers(4, p2=4, p1=3)\n",
    "print \"power1\",xp1, \"power2\", xp2"
   ]
  },
  {
   "cell_type": "markdown",
   "metadata": {},
   "source": [
    "## Diccionarios"
   ]
  },
  {
   "cell_type": "markdown",
   "metadata": {},
   "source": [
    "Los diccionarios son listas de asociaciones entre objetos (como _hashes_ en Java)"
   ]
  },
  {
   "cell_type": "code",
   "execution_count": 14,
   "metadata": {},
   "outputs": [
    {
     "name": "stdout",
     "output_type": "stream",
     "text": [
      "{'i1': 16, 'nombre': 'haskel', 'edad': 32}\n",
      "['i1', 'nombre', 'edad']\n",
      "haskel 32\n",
      "16\n",
      "haskel\n",
      "32\n"
     ]
    }
   ],
   "source": [
    "d = {\"i1\": 16, \"nombre\": \"haskel\", \"edad\": 32}\n",
    "print d\n",
    "print d.keys()\n",
    "print d[\"nombre\"], d[\"edad\"]\n",
    "for k in d.keys():\n",
    "    print d[k]"
   ]
  },
  {
   "cell_type": "markdown",
   "metadata": {},
   "source": [
    "## Expresiones compactas"
   ]
  },
  {
   "cell_type": "markdown",
   "metadata": {},
   "source": [
    "Fíjate cómo las siguientes expresiones son equivalentes:"
   ]
  },
  {
   "cell_type": "code",
   "execution_count": 15,
   "metadata": {},
   "outputs": [
    {
     "name": "stdout",
     "output_type": "stream",
     "text": [
      "mayor que 10\n"
     ]
    }
   ],
   "source": [
    "a=15\n",
    "if a > 10:\n",
    "    s = \"mayor que 10\"\n",
    "else:\n",
    "    s = \"menor que 10\"\n",
    "\n",
    "print s"
   ]
  },
  {
   "cell_type": "code",
   "execution_count": 16,
   "metadata": {},
   "outputs": [
    {
     "name": "stdout",
     "output_type": "stream",
     "text": [
      "menor que 10\n"
     ]
    }
   ],
   "source": [
    "a = 5\n",
    "s = \"mayor que 10\" if a > 10 else \"menor que 10\"\n",
    "print s"
   ]
  },
  {
   "cell_type": "code",
   "execution_count": 17,
   "metadata": {},
   "outputs": [
    {
     "name": "stdout",
     "output_type": "stream",
     "text": [
      "['el numero 0', 'el numero 1', 'el numero 2', 'el numero 3', 'el numero 4', 'el numero 5', 'el numero 6', 'el numero 7', 'el numero 8', 'el numero 9']\n"
     ]
    }
   ],
   "source": [
    "r = []\n",
    "for i in range(10):\n",
    "    r.append(\"el numero \"+str(i))\n",
    "print r"
   ]
  },
  {
   "cell_type": "code",
   "execution_count": 18,
   "metadata": {},
   "outputs": [
    {
     "name": "stdout",
     "output_type": "stream",
     "text": [
      "['el numero 0', 'el numero 1', 'el numero 2', 'el numero 3', 'el numero 4', 'el numero 5', 'el numero 6', 'el numero 7', 'el numero 8', 'el numero 9']\n"
     ]
    }
   ],
   "source": [
    "r = [\"el numero \"+str(i) for i in range(10)]\n",
    "print r"
   ]
  },
  {
   "cell_type": "markdown",
   "metadata": {},
   "source": [
    "## Gráficos"
   ]
  },
  {
   "cell_type": "markdown",
   "metadata": {},
   "source": [
    "Con **plt.plot** pintamos puntos conectados, con **plt.scatter\" pintamos puntos sueltos"
   ]
  },
  {
   "cell_type": "code",
   "execution_count": 8,
   "metadata": {},
   "outputs": [
    {
     "data": {
      "text/plain": [
       "<matplotlib.collections.PathCollection at 0x16f6b82ee80>"
      ]
     },
     "execution_count": 8,
     "metadata": {},
     "output_type": "execute_result"
    },
    {
     "data": {
      "image/png": "[encoded data removed]",
      "text/plain": [
       "<matplotlib.figure.Figure at 0x16f6b733208>"
      ]
     },
     "metadata": {},
     "output_type": "display_data"
    }
   ],
   "source": [
    "import matplotlib.pyplot as plt\n",
    "import numpy as np\n",
    "%matplotlib inline\n",
    "plt.figure(figsize=(10,6))\n",
    "x = np.linspace(-4,4,10)\n",
    "plt.plot(x, x**2, color=\"black\", linewidth=1)\n",
    "plt.scatter(x, x**2, c=\"green\", s=50)\n",
    "x_r = np.linspace(-4,4,100)\n",
    "x_ruido = x_r**2 + (np.random.random(x_r.shape)-0.5)*10\n",
    "plt.scatter(x_r,x_ruido, c=\"red\", alpha=0.4)"
   ]
  },
  {
   "cell_type": "code",
   "execution_count": null,
   "metadata": {
    "collapsed": true
   },
   "outputs": [],
   "source": []
  }
 ],
 "metadata": {
  "kernelspec": {
   "display_name": "Python 3",
   "language": "python",
   "name": "python3"
  },
  "language_info": {
   "codemirror_mode": {
    "name": "ipython",
    "version": 3
   },
   "file_extension": ".py",
   "mimetype": "text/x-python",
   "name": "python",
   "nbconvert_exporter": "python",
   "pygments_lexer": "ipython3",
   "version": "3.6.3"
  },
  "widgets": {
   "application/vnd.jupyter.widget-state+json": {
    "state": {},
    "version_major": 2,
    "version_minor": 0
   }
  }
 },
 "nbformat": 4,
 "nbformat_minor": 1
}
